{
  "nbformat": 4,
  "nbformat_minor": 0,
  "metadata": {
    "kernelspec": {
      "display_name": "Python 3.6",
      "language": "python",
      "name": "python3"
    },
    "language_info": {
      "codemirror_mode": {
        "name": "ipython",
        "version": 3
      },
      "file_extension": ".py",
      "mimetype": "text/x-python",
      "name": "python",
      "nbconvert_exporter": "python",
      "pygments_lexer": "ipython3",
      "version": "3.6.9"
    },
    "colab": {
      "name": "City identification week 1.ipynb",
      "provenance": [],
      "collapsed_sections": [],
      "include_colab_link": true
    }
  },
  "cells": [
    {
      "cell_type": "markdown",
      "metadata": {
        "id": "view-in-github",
        "colab_type": "text"
      },
      "source": [
        "<a href=\"https://colab.research.google.com/github/jbadham/Coursera_Capstone/blob/master/City_identification_week_1.ipynb\" target=\"_parent\"><img src=\"https://colab.research.google.com/assets/colab-badge.svg\" alt=\"Open In Colab\"/></a>"
      ]
    },
    {
      "cell_type": "markdown",
      "metadata": {
        "collapsed": true,
        "id": "cJIT4wriVYEu",
        "colab_type": "text"
      },
      "source": [
        "# City Identification with Venue Descriptions\n",
        "\n",
        "Created by Jennifer Badham for the IBM Professional Certificate in Data Science  \n",
        "March 2020  \n",
        "\n",
        "## Introduction\n",
        "\n",
        "The current Covid-19 pandemic demonstrates that the world is interconnected, as it moves from Asia, to Europe and then to North America, with further spread expected. Such connectivity reflects a deeper globalisation whereby cultural products such as blues music and K-pop are popular worldwide, and multinational corporations such as Amazon and Samsung operate on a global scale.\n",
        "\n",
        "Such movements of people, goods, and practices has led to a blurring of cultural differences where, for example, Starbucks competes against cafes in Paris but not in Rome. More generally, Italian and Chinese restaurants are popular in major cities throughout the world.\n",
        "\n",
        "This report examines the extent to which types of venues can be used to distinguish between three cities with approximately 10 million residents - New York (USA), Tokyo (Japan) and Paris (France). These cities are the largest in their nations, appear near the top of various lists of global cities and are located in different continents. With their international orientation, if these cities can be separated, then that is strong evidence that significant cultural differences remain.\n",
        "\n",
        "Note that this is intended as a social sciences research question, not a business problem. A decision tree is used for classification because it focusses on the specific features (venue types) of the neighbourhood to distinguish between cities. This approach relates directly to the research question about whether the cities can be distinguished and identifies the key venue types that differ between cities. That is, the results will identify the ways in which different cultures are reflected in the types of goods that people buy, and services and public attractions that are available. This is an important topic in cultural sociology.\n",
        "\n",
        "## Data\n",
        "\n",
        "The key data to inform this research are the types of venues located in the central area of the city. Venues include retailers such as restaurants or fashion shops, service providers such as banks, and public facilities such as parks or art galleries.\n",
        "\n",
        "Multiple neighbourhoods are to be examined for each city. For each neighbourhood, the most popular 100 venues are to be obtained from the dataset underpinning the Foursquare City Guide local search and venue recommender app.\n",
        "\n",
        "Foursquare includes the type of venue (referred to as category) for each venue in its dataset. In this study, I will identify the most popular categories for all cities combined and use these to construct a profile for each neighbourhood. That profile will report the proportion of the top 100 venues in the neighbourhood in each of the relevant categories. For example, what proportion are restaurants or parks.\n",
        "\n",
        "The neighbourhood profiles will be used to construct a decision tree that classifies each neighbourhood to its city. Japanese, American and French restaurants will be excluded from the profiles so that the classification is not biased by the availability of local cuisine.\n"
      ]
    }
  ]
}
