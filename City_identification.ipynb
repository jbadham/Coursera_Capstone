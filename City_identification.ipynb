{
  "nbformat": 4,
  "nbformat_minor": 0,
  "metadata": {
    "kernelspec": {
      "display_name": "Python 3.6",
      "language": "python",
      "name": "python3"
    },
    "language_info": {
      "codemirror_mode": {
        "name": "ipython",
        "version": 3
      },
      "file_extension": ".py",
      "mimetype": "text/x-python",
      "name": "python",
      "nbconvert_exporter": "python",
      "pygments_lexer": "ipython3",
      "version": "3.6.9"
    },
    "colab": {
      "name": "City identification.ipynb",
      "provenance": [],
      "collapsed_sections": [],
      "include_colab_link": true
    }
  },
  "cells": [
    {
      "cell_type": "markdown",
      "metadata": {
        "id": "view-in-github",
        "colab_type": "text"
      },
      "source": [
        "<a href=\"https://colab.research.google.com/github/jbadham/Coursera_Capstone/blob/master/City_identification.ipynb\" target=\"_parent\"><img src=\"https://colab.research.google.com/assets/colab-badge.svg\" alt=\"Open In Colab\"/></a>"
      ]
    },
    {
      "cell_type": "markdown",
      "metadata": {
        "collapsed": true,
        "id": "cJIT4wriVYEu",
        "colab_type": "text"
      },
      "source": [
        "# City Identification with Venue Descriptions\n",
        "\n",
        "Created by Jennifer Badham for the IBM Professional Certificate in Data Science  \n",
        "March 2020  \n",
        "\n",
        "## Introduction\n",
        "\n",
        "The current Covid-19 pandemic demonstrates that the world is interconnected, as it moves from Asia, to Europe and then to North America, with further spread expected. Such connectivity reflects a deeper globalisation whereby cultural products such as blues music and K-pop are popular worldwide, and multinational corporations such as Amazon and Samsung operate on a global scale.\n",
        "\n",
        "Such movements of people, goods, and practices has led to a blurring of cultural differences where, for example, Starbucks competes against cafes in Paris but not in Rome. More generally, Italian and Chinese restaurants are popular in major cities throughout the world.\n",
        "\n",
        "This report examines the extent to which types of venues can be used to distinguish between three cities with approximately 10 million residents - New York (USA), Tokyo (Japan) and Paris (France). These cities are the largest in their nations, appear near the top of various lists of global cities and are located in different continents. With their international orientation, if these cities can be separated, then that is strong evidence that significant cultural differences remain.\n",
        "\n",
        "Note that this is intended as a social sciences research question, not a business problem. A decision tree is used for classification because it focusses on the specific features (venue types) of the neighbourhood to distinguish between cities. This approach relates directly to the research question about whether the cities can be distinguished and identifies the key venue types that differ between cities. That is, the results will identify the ways in which different cultures are reflected in the types of goods that people buy, and services and public attractions that are available. This is an important topic in cultural sociology.\n",
        "\n",
        "## Data\n",
        "\n",
        "The key data to inform this research are the types of venues located in the central area of the city. Venues include retailers such as restaurants or fashion shops, service providers such as banks, and public facilities such as parks or art galleries.\n",
        "\n",
        "Multiple neighbourhoods are to be examined for each city. For each neighbourhood, the most popular 100 venues are to be obtained from the dataset underpinning the Foursquare City Guide local search and venue recommender app.\n",
        "\n",
        "Foursquare includes the type of venue (referred to as category) for each venue in its dataset. In this study, I will identify the most popular categories for all cities combined and use these to construct a profile for each neighbourhood. That profile will report the proportion of the top 100 venues in the neighbourhood in each of the relevant categories. For example, what proportion are restaurants or parks.\n",
        "\n",
        "The neighbourhood profiles will be used to construct a decision tree that classifies each neighbourhood to its city. Japanese, American and French restaurants will be excluded from the profiles so that the classification is not biased by the availability of local cuisine.\n",
        "\n",
        "## Methods\n",
        "\n",
        "There are two major steps, constructing venue profiles and using those profiles to classify cities. The latitude and longitude for each neighbourhood in the metropolitan area of the three cities is used to centre searches to Foursquare to retrieve the details of venues in each neighbourhood. After removing the local cuisine restaurants, the profiles are constructed as the proportion of venues in each of the most popular categories. A decision tree is constructed on a sample of neighbourhoods and tested on the remaining neighbourhoods.\n"
      ]
    },
    {
      "cell_type": "code",
      "metadata": {
        "id": "Aeb0ZElVVYEx",
        "colab_type": "code",
        "colab": {}
      },
      "source": [
        "# preparation - load libraries\n",
        "import pandas as pd\n",
        "import numpy as np"
      ],
      "execution_count": 0,
      "outputs": []
    },
    {
      "cell_type": "markdown",
      "metadata": {
        "id": "sBtA-i4eVYE2",
        "colab_type": "text"
      },
      "source": [
        "**Step 1: Obtain latitude and longitude for neighbourhoods**\n",
        "\n",
        "The Foursquare API requires latitude and longitude to centre the venue search. Therefore, the latitude and longitude of each neighbourhood in the three cities is required.\n",
        "\n",
        "Paris has 20 administrative areas in the metropolitan area, with postal codes 75000 to 75020. For Tokyo, the 23 wards of the metropolitan area have postal codes with the first three digits in the range 100 to 179 and names that end in 'ku'. New York has 42 well defined administrative regions, but several postal codes are included within each. For New York, I used the first postal code in the list at https://www.health.ny.gov/statistics/cancer/registry/appendix/neighborhoods.htm\n",
        "\n",
        "Due to previous problems with the Python geocoding package, I supplied this postal code (Paris, New York) or ward name (Tokyo) information to the batch geocode tool at https://geocode.localfocus.nl/, restricted to the relevant country. That provided a text format latitude and longitude for each location, which I used to construct a csv file of neighbourhoods and locations.\n"
      ]
    },
    {
      "cell_type": "code",
      "metadata": {
        "id": "CZz4sctmVYE4",
        "colab_type": "code",
        "outputId": "5430675c-38f1-4ddc-a3bf-ff4815ece309",
        "colab": {
          "base_uri": "https://localhost:8080/",
          "height": 142
        }
      },
      "source": [
        "locations = pd.read_csv(\"https://raw.githubusercontent.com/jbadham/Coursera_Capstone/master/CityLocations.csv\")\n",
        "locations.head(3)"
      ],
      "execution_count": 2,
      "outputs": [
        {
          "output_type": "execute_result",
          "data": {
            "text/html": [
              "<div>\n",
              "<style scoped>\n",
              "    .dataframe tbody tr th:only-of-type {\n",
              "        vertical-align: middle;\n",
              "    }\n",
              "\n",
              "    .dataframe tbody tr th {\n",
              "        vertical-align: top;\n",
              "    }\n",
              "\n",
              "    .dataframe thead th {\n",
              "        text-align: right;\n",
              "    }\n",
              "</style>\n",
              "<table border=\"1\" class=\"dataframe\">\n",
              "  <thead>\n",
              "    <tr style=\"text-align: right;\">\n",
              "      <th></th>\n",
              "      <th>City</th>\n",
              "      <th>Neighbourhood</th>\n",
              "      <th>Latitude</th>\n",
              "      <th>Longitude</th>\n",
              "    </tr>\n",
              "  </thead>\n",
              "  <tbody>\n",
              "    <tr>\n",
              "      <th>0</th>\n",
              "      <td>Paris</td>\n",
              "      <td>75001</td>\n",
              "      <td>48.862630</td>\n",
              "      <td>2.336293</td>\n",
              "    </tr>\n",
              "    <tr>\n",
              "      <th>1</th>\n",
              "      <td>Paris</td>\n",
              "      <td>75002</td>\n",
              "      <td>48.867903</td>\n",
              "      <td>2.344107</td>\n",
              "    </tr>\n",
              "    <tr>\n",
              "      <th>2</th>\n",
              "      <td>Paris</td>\n",
              "      <td>75003</td>\n",
              "      <td>48.863054</td>\n",
              "      <td>2.359361</td>\n",
              "    </tr>\n",
              "  </tbody>\n",
              "</table>\n",
              "</div>"
            ],
            "text/plain": [
              "    City Neighbourhood   Latitude  Longitude\n",
              "0  Paris         75001  48.862630   2.336293\n",
              "1  Paris         75002  48.867903   2.344107\n",
              "2  Paris         75003  48.863054   2.359361"
            ]
          },
          "metadata": {
            "tags": []
          },
          "execution_count": 2
        }
      ]
    },
    {
      "cell_type": "markdown",
      "metadata": {
        "id": "U-9vusIJGI-Z",
        "colab_type": "text"
      },
      "source": [
        "**Step 2: Construct neighbourhood profiles using Foursquare venue data**\n",
        "\n",
        "Foursquare data is used to extract up to 100 venues for each neighbourhood. The neighbourhood profile describes the proportion of venues in the neighbourhood that fall into each of the most common venue categories overall.\n",
        "\n",
        "Retrieve the neighbourhood information from Foursquare."
      ]
    },
    {
      "cell_type": "code",
      "metadata": {
        "id": "AJ-tKn4SHpGd",
        "colab_type": "code",
        "outputId": "dc3936eb-6cb4-4403-be1a-3f81ba64a710",
        "colab": {
          "base_uri": "https://localhost:8080/",
          "height": 419
        }
      },
      "source": [
        "import json # library to handle JSON files\n",
        "import requests # library to handle requests\n",
        "from pandas.io.json import json_normalize # tranform JSON file into a pandas dataframe\n",
        "\n",
        "# set up Foursquare credentials\n",
        "CLIENT_ID = 'CEWHNCOSODH3US5NVLI5H2ZKJN5FWHPEQS4BBJSRSUIKNIS1' # your Foursquare ID\n",
        "CLIENT_SECRET = 'EAINZEE4FJBAUS5XLOHW0JQLC1RO0LBWOUHUKVKFT21MVVFN' # your Foursquare Secret\n",
        "VERSION = '20180605' # Foursquare API version\n",
        "\n",
        "# define function to return venue name and category\n",
        "radius = 500   # within 500m of specified location\n",
        "LIMIT = 100    # up to 100 venues\n",
        "\n",
        "def getNearbyVenues(names, latitudes, longitudes, radius=500):\n",
        "    \n",
        "    venues_list=[]\n",
        "    for name, lat, lng in zip(names, latitudes, longitudes):\n",
        "        # create the API request URL\n",
        "        url = 'https://api.foursquare.com/v2/venues/explore?&client_id={}&client_secret={}&v={}&ll={},{}&radius={}&limit={}'.format(\n",
        "            CLIENT_ID, \n",
        "            CLIENT_SECRET, \n",
        "            VERSION, \n",
        "            lat, \n",
        "            lng, \n",
        "            radius, \n",
        "            LIMIT)\n",
        "            \n",
        "        # make the GET request\n",
        "        results = requests.get(url).json()[\"response\"]['groups'][0]['items']\n",
        "        # return only relevant information for each nearby venue\n",
        "        venues_list.append([(\n",
        "            name, \n",
        "            lat, \n",
        "            lng, \n",
        "            v['venue']['name'], \n",
        "            v['venue']['categories'][0]['name']) for v in results])\n",
        "\n",
        "    # construct the dataframe\n",
        "    nearby_venues = pd.DataFrame([item for venue_list in venues_list for item in venue_list])\n",
        "    nearby_venues.columns = ['Neighbourhood', \n",
        "                  'Latitude', \n",
        "                  'Longitude', \n",
        "                  'Venue', \n",
        "                  'Category']\n",
        "    \n",
        "    return(nearby_venues)\n",
        "\n",
        "# return the venue details for all Toronto neighbourhoods\n",
        "venues = getNearbyVenues(names = locations['Neighbourhood'],\n",
        "                            latitudes = locations['Latitude'],\n",
        "                            longitudes = locations['Longitude']\n",
        "                            )\n",
        "\n",
        "venues"
      ],
      "execution_count": 3,
      "outputs": [
        {
          "output_type": "execute_result",
          "data": {
            "text/html": [
              "<div>\n",
              "<style scoped>\n",
              "    .dataframe tbody tr th:only-of-type {\n",
              "        vertical-align: middle;\n",
              "    }\n",
              "\n",
              "    .dataframe tbody tr th {\n",
              "        vertical-align: top;\n",
              "    }\n",
              "\n",
              "    .dataframe thead th {\n",
              "        text-align: right;\n",
              "    }\n",
              "</style>\n",
              "<table border=\"1\" class=\"dataframe\">\n",
              "  <thead>\n",
              "    <tr style=\"text-align: right;\">\n",
              "      <th></th>\n",
              "      <th>Neighbourhood</th>\n",
              "      <th>Latitude</th>\n",
              "      <th>Longitude</th>\n",
              "      <th>Venue</th>\n",
              "      <th>Category</th>\n",
              "    </tr>\n",
              "  </thead>\n",
              "  <tbody>\n",
              "    <tr>\n",
              "      <th>0</th>\n",
              "      <td>75001</td>\n",
              "      <td>48.862630</td>\n",
              "      <td>2.336293</td>\n",
              "      <td>Musée du Louvre</td>\n",
              "      <td>Art Museum</td>\n",
              "    </tr>\n",
              "    <tr>\n",
              "      <th>1</th>\n",
              "      <td>75001</td>\n",
              "      <td>48.862630</td>\n",
              "      <td>2.336293</td>\n",
              "      <td>Palais Royal</td>\n",
              "      <td>Historic Site</td>\n",
              "    </tr>\n",
              "    <tr>\n",
              "      <th>2</th>\n",
              "      <td>75001</td>\n",
              "      <td>48.862630</td>\n",
              "      <td>2.336293</td>\n",
              "      <td>Comédie-Française</td>\n",
              "      <td>Theater</td>\n",
              "    </tr>\n",
              "    <tr>\n",
              "      <th>3</th>\n",
              "      <td>75001</td>\n",
              "      <td>48.862630</td>\n",
              "      <td>2.336293</td>\n",
              "      <td>Cour Napoléon</td>\n",
              "      <td>Plaza</td>\n",
              "    </tr>\n",
              "    <tr>\n",
              "      <th>4</th>\n",
              "      <td>75001</td>\n",
              "      <td>48.862630</td>\n",
              "      <td>2.336293</td>\n",
              "      <td>Place du Palais Royal</td>\n",
              "      <td>Plaza</td>\n",
              "    </tr>\n",
              "    <tr>\n",
              "      <th>...</th>\n",
              "      <td>...</td>\n",
              "      <td>...</td>\n",
              "      <td>...</td>\n",
              "      <td>...</td>\n",
              "      <td>...</td>\n",
              "    </tr>\n",
              "    <tr>\n",
              "      <th>4178</th>\n",
              "      <td>10301</td>\n",
              "      <td>40.627505</td>\n",
              "      <td>-74.094377</td>\n",
              "      <td>Silver Lake Park Dog Run</td>\n",
              "      <td>Dog Run</td>\n",
              "    </tr>\n",
              "    <tr>\n",
              "      <th>4179</th>\n",
              "      <td>10314</td>\n",
              "      <td>40.599263</td>\n",
              "      <td>-74.165748</td>\n",
              "      <td>Chock Full Of Nuts</td>\n",
              "      <td>Coffee Shop</td>\n",
              "    </tr>\n",
              "    <tr>\n",
              "      <th>4180</th>\n",
              "      <td>10314</td>\n",
              "      <td>40.599263</td>\n",
              "      <td>-74.165748</td>\n",
              "      <td>1001 Nights Cafe</td>\n",
              "      <td>Hookah Bar</td>\n",
              "    </tr>\n",
              "    <tr>\n",
              "      <th>4181</th>\n",
              "      <td>10314</td>\n",
              "      <td>40.599263</td>\n",
              "      <td>-74.165748</td>\n",
              "      <td>Arabian Nights Restaurant and Hookah Lounge</td>\n",
              "      <td>Hookah Bar</td>\n",
              "    </tr>\n",
              "    <tr>\n",
              "      <th>4182</th>\n",
              "      <td>10314</td>\n",
              "      <td>40.599263</td>\n",
              "      <td>-74.165748</td>\n",
              "      <td>Enzo &amp; Tino's Bake Shop</td>\n",
              "      <td>Bakery</td>\n",
              "    </tr>\n",
              "  </tbody>\n",
              "</table>\n",
              "<p>4183 rows × 5 columns</p>\n",
              "</div>"
            ],
            "text/plain": [
              "     Neighbourhood  ...       Category\n",
              "0            75001  ...     Art Museum\n",
              "1            75001  ...  Historic Site\n",
              "2            75001  ...        Theater\n",
              "3            75001  ...          Plaza\n",
              "4            75001  ...          Plaza\n",
              "...            ...  ...            ...\n",
              "4178         10301  ...        Dog Run\n",
              "4179         10314  ...    Coffee Shop\n",
              "4180         10314  ...     Hookah Bar\n",
              "4181         10314  ...     Hookah Bar\n",
              "4182         10314  ...         Bakery\n",
              "\n",
              "[4183 rows x 5 columns]"
            ]
          },
          "metadata": {
            "tags": []
          },
          "execution_count": 3
        }
      ]
    },
    {
      "cell_type": "markdown",
      "metadata": {
        "id": "bndKl_3xPwGZ",
        "colab_type": "text"
      },
      "source": [
        "Identify the most popular venue categories (combining the cities) and report the top 30."
      ]
    },
    {
      "cell_type": "code",
      "metadata": {
        "id": "KzHt38VONPH9",
        "colab_type": "code",
        "outputId": "6c6f4984-d9a9-48d9-a48b-9c11af56578c",
        "colab": {
          "base_uri": "https://localhost:8080/",
          "height": 1000
        }
      },
      "source": [
        "num_categories = venues.groupby('Category').count()\n",
        "num_categories.drop(['Neighbourhood', 'Latitude', 'Longitude'], axis = 'columns', inplace=True)\n",
        "num_categories.sort_values('Venue', ascending=False, inplace=True)\n",
        "num_categories.head(30)"
      ],
      "execution_count": 4,
      "outputs": [
        {
          "output_type": "execute_result",
          "data": {
            "text/html": [
              "<div>\n",
              "<style scoped>\n",
              "    .dataframe tbody tr th:only-of-type {\n",
              "        vertical-align: middle;\n",
              "    }\n",
              "\n",
              "    .dataframe tbody tr th {\n",
              "        vertical-align: top;\n",
              "    }\n",
              "\n",
              "    .dataframe thead th {\n",
              "        text-align: right;\n",
              "    }\n",
              "</style>\n",
              "<table border=\"1\" class=\"dataframe\">\n",
              "  <thead>\n",
              "    <tr style=\"text-align: right;\">\n",
              "      <th></th>\n",
              "      <th>Venue</th>\n",
              "    </tr>\n",
              "    <tr>\n",
              "      <th>Category</th>\n",
              "      <th></th>\n",
              "    </tr>\n",
              "  </thead>\n",
              "  <tbody>\n",
              "    <tr>\n",
              "      <th>French Restaurant</th>\n",
              "      <td>184</td>\n",
              "    </tr>\n",
              "    <tr>\n",
              "      <th>Convenience Store</th>\n",
              "      <td>140</td>\n",
              "    </tr>\n",
              "    <tr>\n",
              "      <th>Coffee Shop</th>\n",
              "      <td>131</td>\n",
              "    </tr>\n",
              "    <tr>\n",
              "      <th>Italian Restaurant</th>\n",
              "      <td>129</td>\n",
              "    </tr>\n",
              "    <tr>\n",
              "      <th>Café</th>\n",
              "      <td>122</td>\n",
              "    </tr>\n",
              "    <tr>\n",
              "      <th>Hotel</th>\n",
              "      <td>119</td>\n",
              "    </tr>\n",
              "    <tr>\n",
              "      <th>Pizza Place</th>\n",
              "      <td>106</td>\n",
              "    </tr>\n",
              "    <tr>\n",
              "      <th>Bakery</th>\n",
              "      <td>99</td>\n",
              "    </tr>\n",
              "    <tr>\n",
              "      <th>Japanese Restaurant</th>\n",
              "      <td>93</td>\n",
              "    </tr>\n",
              "    <tr>\n",
              "      <th>Chinese Restaurant</th>\n",
              "      <td>85</td>\n",
              "    </tr>\n",
              "    <tr>\n",
              "      <th>Bar</th>\n",
              "      <td>83</td>\n",
              "    </tr>\n",
              "    <tr>\n",
              "      <th>Ramen Restaurant</th>\n",
              "      <td>70</td>\n",
              "    </tr>\n",
              "    <tr>\n",
              "      <th>Park</th>\n",
              "      <td>70</td>\n",
              "    </tr>\n",
              "    <tr>\n",
              "      <th>Mexican Restaurant</th>\n",
              "      <td>61</td>\n",
              "    </tr>\n",
              "    <tr>\n",
              "      <th>Sushi Restaurant</th>\n",
              "      <td>57</td>\n",
              "    </tr>\n",
              "    <tr>\n",
              "      <th>Grocery Store</th>\n",
              "      <td>51</td>\n",
              "    </tr>\n",
              "    <tr>\n",
              "      <th>Restaurant</th>\n",
              "      <td>48</td>\n",
              "    </tr>\n",
              "    <tr>\n",
              "      <th>Ice Cream Shop</th>\n",
              "      <td>48</td>\n",
              "    </tr>\n",
              "    <tr>\n",
              "      <th>Bistro</th>\n",
              "      <td>46</td>\n",
              "    </tr>\n",
              "    <tr>\n",
              "      <th>Sandwich Place</th>\n",
              "      <td>45</td>\n",
              "    </tr>\n",
              "    <tr>\n",
              "      <th>Supermarket</th>\n",
              "      <td>45</td>\n",
              "    </tr>\n",
              "    <tr>\n",
              "      <th>Cocktail Bar</th>\n",
              "      <td>44</td>\n",
              "    </tr>\n",
              "    <tr>\n",
              "      <th>Wine Bar</th>\n",
              "      <td>43</td>\n",
              "    </tr>\n",
              "    <tr>\n",
              "      <th>Deli / Bodega</th>\n",
              "      <td>42</td>\n",
              "    </tr>\n",
              "    <tr>\n",
              "      <th>Plaza</th>\n",
              "      <td>41</td>\n",
              "    </tr>\n",
              "    <tr>\n",
              "      <th>Sake Bar</th>\n",
              "      <td>37</td>\n",
              "    </tr>\n",
              "    <tr>\n",
              "      <th>Indian Restaurant</th>\n",
              "      <td>37</td>\n",
              "    </tr>\n",
              "    <tr>\n",
              "      <th>Burger Joint</th>\n",
              "      <td>36</td>\n",
              "    </tr>\n",
              "    <tr>\n",
              "      <th>Gym / Fitness Center</th>\n",
              "      <td>36</td>\n",
              "    </tr>\n",
              "    <tr>\n",
              "      <th>BBQ Joint</th>\n",
              "      <td>35</td>\n",
              "    </tr>\n",
              "  </tbody>\n",
              "</table>\n",
              "</div>"
            ],
            "text/plain": [
              "                      Venue\n",
              "Category                   \n",
              "French Restaurant       184\n",
              "Convenience Store       140\n",
              "Coffee Shop             131\n",
              "Italian Restaurant      129\n",
              "Café                    122\n",
              "Hotel                   119\n",
              "Pizza Place             106\n",
              "Bakery                   99\n",
              "Japanese Restaurant      93\n",
              "Chinese Restaurant       85\n",
              "Bar                      83\n",
              "Ramen Restaurant         70\n",
              "Park                     70\n",
              "Mexican Restaurant       61\n",
              "Sushi Restaurant         57\n",
              "Grocery Store            51\n",
              "Restaurant               48\n",
              "Ice Cream Shop           48\n",
              "Bistro                   46\n",
              "Sandwich Place           45\n",
              "Supermarket              45\n",
              "Cocktail Bar             44\n",
              "Wine Bar                 43\n",
              "Deli / Bodega            42\n",
              "Plaza                    41\n",
              "Sake Bar                 37\n",
              "Indian Restaurant        37\n",
              "Burger Joint             36\n",
              "Gym / Fitness Center     36\n",
              "BBQ Joint                35"
            ]
          },
          "metadata": {
            "tags": []
          },
          "execution_count": 4
        }
      ]
    },
    {
      "cell_type": "markdown",
      "metadata": {
        "id": "ANlQuf4JXrTD",
        "colab_type": "text"
      },
      "source": [
        "Remove the local cuisine for all cities, including the local cuisine of each other. However, as the neighbourhood style is relevant, these are all reclassified generically as 'Restaurant' (and 'Bar' for Sake bars), and most common categories rechecked."
      ]
    },
    {
      "cell_type": "code",
      "metadata": {
        "id": "__ISzh86phgn",
        "colab_type": "code",
        "outputId": "d3398f3b-c95e-45fc-bbac-060874b013c1",
        "colab": {
          "base_uri": "https://localhost:8080/",
          "height": 855
        }
      },
      "source": [
        "# replace local cuisine with generic restaurant\n",
        "venues.Category.replace(\"French Restaurant\", \"Restaurant\", inplace=True)\n",
        "venues.Category.replace(\"Japanese Restaurant\", \"Restaurant\", inplace=True)\n",
        "venues.Category.replace(\"Ramen Restaurant\", \"Restaurant\", inplace=True)\n",
        "venues.Category.replace(\"Sushi Restaurant\", \"Restaurant\", inplace=True)\n",
        "venues.Category.replace(\"American Restaurant\", \"Restaurant\", inplace=True)\n",
        "venues.Category.replace(\"Sake Bar\", \"Bar\", inplace=True)\n",
        "\n",
        "# check the most popular venue categories\n",
        "num_categories = venues.groupby('Category').count()\n",
        "num_categories.drop(['Neighbourhood', 'Latitude', 'Longitude'], axis = 'columns', inplace=True)\n",
        "num_categories.sort_values('Venue', ascending=False, inplace=True)\n",
        "num_categories.head(25)"
      ],
      "execution_count": 5,
      "outputs": [
        {
          "output_type": "execute_result",
          "data": {
            "text/html": [
              "<div>\n",
              "<style scoped>\n",
              "    .dataframe tbody tr th:only-of-type {\n",
              "        vertical-align: middle;\n",
              "    }\n",
              "\n",
              "    .dataframe tbody tr th {\n",
              "        vertical-align: top;\n",
              "    }\n",
              "\n",
              "    .dataframe thead th {\n",
              "        text-align: right;\n",
              "    }\n",
              "</style>\n",
              "<table border=\"1\" class=\"dataframe\">\n",
              "  <thead>\n",
              "    <tr style=\"text-align: right;\">\n",
              "      <th></th>\n",
              "      <th>Venue</th>\n",
              "    </tr>\n",
              "    <tr>\n",
              "      <th>Category</th>\n",
              "      <th></th>\n",
              "    </tr>\n",
              "  </thead>\n",
              "  <tbody>\n",
              "    <tr>\n",
              "      <th>Restaurant</th>\n",
              "      <td>483</td>\n",
              "    </tr>\n",
              "    <tr>\n",
              "      <th>Convenience Store</th>\n",
              "      <td>140</td>\n",
              "    </tr>\n",
              "    <tr>\n",
              "      <th>Coffee Shop</th>\n",
              "      <td>131</td>\n",
              "    </tr>\n",
              "    <tr>\n",
              "      <th>Italian Restaurant</th>\n",
              "      <td>129</td>\n",
              "    </tr>\n",
              "    <tr>\n",
              "      <th>Café</th>\n",
              "      <td>122</td>\n",
              "    </tr>\n",
              "    <tr>\n",
              "      <th>Bar</th>\n",
              "      <td>120</td>\n",
              "    </tr>\n",
              "    <tr>\n",
              "      <th>Hotel</th>\n",
              "      <td>119</td>\n",
              "    </tr>\n",
              "    <tr>\n",
              "      <th>Pizza Place</th>\n",
              "      <td>106</td>\n",
              "    </tr>\n",
              "    <tr>\n",
              "      <th>Bakery</th>\n",
              "      <td>99</td>\n",
              "    </tr>\n",
              "    <tr>\n",
              "      <th>Chinese Restaurant</th>\n",
              "      <td>85</td>\n",
              "    </tr>\n",
              "    <tr>\n",
              "      <th>Park</th>\n",
              "      <td>70</td>\n",
              "    </tr>\n",
              "    <tr>\n",
              "      <th>Mexican Restaurant</th>\n",
              "      <td>61</td>\n",
              "    </tr>\n",
              "    <tr>\n",
              "      <th>Grocery Store</th>\n",
              "      <td>51</td>\n",
              "    </tr>\n",
              "    <tr>\n",
              "      <th>Ice Cream Shop</th>\n",
              "      <td>48</td>\n",
              "    </tr>\n",
              "    <tr>\n",
              "      <th>Bistro</th>\n",
              "      <td>46</td>\n",
              "    </tr>\n",
              "    <tr>\n",
              "      <th>Sandwich Place</th>\n",
              "      <td>45</td>\n",
              "    </tr>\n",
              "    <tr>\n",
              "      <th>Supermarket</th>\n",
              "      <td>45</td>\n",
              "    </tr>\n",
              "    <tr>\n",
              "      <th>Cocktail Bar</th>\n",
              "      <td>44</td>\n",
              "    </tr>\n",
              "    <tr>\n",
              "      <th>Wine Bar</th>\n",
              "      <td>43</td>\n",
              "    </tr>\n",
              "    <tr>\n",
              "      <th>Deli / Bodega</th>\n",
              "      <td>42</td>\n",
              "    </tr>\n",
              "    <tr>\n",
              "      <th>Plaza</th>\n",
              "      <td>41</td>\n",
              "    </tr>\n",
              "    <tr>\n",
              "      <th>Indian Restaurant</th>\n",
              "      <td>37</td>\n",
              "    </tr>\n",
              "    <tr>\n",
              "      <th>Burger Joint</th>\n",
              "      <td>36</td>\n",
              "    </tr>\n",
              "    <tr>\n",
              "      <th>Gym / Fitness Center</th>\n",
              "      <td>36</td>\n",
              "    </tr>\n",
              "    <tr>\n",
              "      <th>BBQ Joint</th>\n",
              "      <td>35</td>\n",
              "    </tr>\n",
              "  </tbody>\n",
              "</table>\n",
              "</div>"
            ],
            "text/plain": [
              "                      Venue\n",
              "Category                   \n",
              "Restaurant              483\n",
              "Convenience Store       140\n",
              "Coffee Shop             131\n",
              "Italian Restaurant      129\n",
              "Café                    122\n",
              "Bar                     120\n",
              "Hotel                   119\n",
              "Pizza Place             106\n",
              "Bakery                   99\n",
              "Chinese Restaurant       85\n",
              "Park                     70\n",
              "Mexican Restaurant       61\n",
              "Grocery Store            51\n",
              "Ice Cream Shop           48\n",
              "Bistro                   46\n",
              "Sandwich Place           45\n",
              "Supermarket              45\n",
              "Cocktail Bar             44\n",
              "Wine Bar                 43\n",
              "Deli / Bodega            42\n",
              "Plaza                    41\n",
              "Indian Restaurant        37\n",
              "Burger Joint             36\n",
              "Gym / Fitness Center     36\n",
              "BBQ Joint                35"
            ]
          },
          "metadata": {
            "tags": []
          },
          "execution_count": 5
        }
      ]
    },
    {
      "cell_type": "markdown",
      "metadata": {
        "id": "SK8FoEcJpjC5",
        "colab_type": "text"
      },
      "source": [
        "Retain only the venues that are in one of these most common 20 categories."
      ]
    },
    {
      "cell_type": "code",
      "metadata": {
        "id": "Xvzsf4FSPmWv",
        "colab_type": "code",
        "outputId": "ed368a6b-cff8-49aa-a35b-d30afce58250",
        "colab": {
          "base_uri": "https://localhost:8080/",
          "height": 51
        }
      },
      "source": [
        "# store the relevant categories\n",
        "top_categories = num_categories[0:20]\n",
        "top_categories.reset_index(inplace=True)\n",
        "print(\"Total venues expected in top 20 categories:\", top_categories['Venue'].sum())\n",
        "\n",
        "# count venues by category in each neighbourhood\n",
        "cat_counts = venues.groupby(by = ['Neighbourhood', 'Category']).count()\n",
        "cat_counts.drop(['Latitude', 'Longitude'], axis='columns', inplace=True)\n",
        "cat_counts.reset_index(inplace=True)\n",
        "\n",
        "# drop the less common categories\n",
        "cat_counts_clean = cat_counts[cat_counts['Category'].isin(top_categories['Category'])]\n",
        "print(\"Confirm filtered correctly:\", cat_counts_clean['Venue'].sum())"
      ],
      "execution_count": 6,
      "outputs": [
        {
          "output_type": "stream",
          "text": [
            "Total venues expected in top 20 categories: 2029\n",
            "Confirm filtered correctly: 2029\n"
          ],
          "name": "stdout"
        }
      ]
    },
    {
      "cell_type": "markdown",
      "metadata": {
        "id": "yi-yKTbPY9ah",
        "colab_type": "text"
      },
      "source": [
        "Restricting to the most frequent 20 categories reduced the total number of venues found from over 4000 to around 2000 (exact numbers depend on when the report is run as the Foursquare data is constantly being revised).\n",
        "\n",
        "Construct a profile for each neighbouhood that contains the proportion of returned venues that are of each of these top 20 categories."
      ]
    },
    {
      "cell_type": "code",
      "metadata": {
        "id": "1H_CcUchZDWE",
        "colab_type": "code",
        "outputId": "23a16ba9-9c9f-456e-9523-6b236ca69523",
        "colab": {
          "base_uri": "https://localhost:8080/",
          "height": 258
        }
      },
      "source": [
        "# calculate the total number of venues in each neighbourhood (restricted to top 20 categories)\n",
        "nbr_totals = cat_counts_clean.groupby('Neighbourhood')['Venue'].sum()\n",
        "\n",
        "# merge the total onto the cleaned category counts and calculate proportions\n",
        "profiles = cat_counts_clean.merge(nbr_totals, left_on = 'Neighbourhood', right_index=True)\n",
        "profiles['Prop'] = profiles['Venue_x'] / profiles['Venue_y']\n",
        "profiles.drop(['Venue_y'], axis='columns', inplace=True)\n",
        "profiles.rename(columns={'Venue_x':'Venues'}, inplace=True)\n",
        "\n",
        "# reshape so that each proportion is a feature\n",
        "nbr_proportions = profiles.pivot(index='Neighbourhood', columns='Category', values='Prop')\n",
        "# replace the missing values with 0 \n",
        "nbr_proportions.fillna(0, inplace=True)\n",
        "\n",
        "# add the city identifier\n",
        "nbr_proportions.reset_index(inplace=True)\n",
        "df_neighbourhoods = locations.merge(nbr_proportions)\n",
        "df_neighbourhoods.drop(['Latitude', 'Longitude'], axis='columns', inplace=True)\n",
        "\n",
        "# check reasonable\n",
        "df_neighbourhoods.head()"
      ],
      "execution_count": 7,
      "outputs": [
        {
          "output_type": "execute_result",
          "data": {
            "text/html": [
              "<div>\n",
              "<style scoped>\n",
              "    .dataframe tbody tr th:only-of-type {\n",
              "        vertical-align: middle;\n",
              "    }\n",
              "\n",
              "    .dataframe tbody tr th {\n",
              "        vertical-align: top;\n",
              "    }\n",
              "\n",
              "    .dataframe thead th {\n",
              "        text-align: right;\n",
              "    }\n",
              "</style>\n",
              "<table border=\"1\" class=\"dataframe\">\n",
              "  <thead>\n",
              "    <tr style=\"text-align: right;\">\n",
              "      <th></th>\n",
              "      <th>City</th>\n",
              "      <th>Neighbourhood</th>\n",
              "      <th>Bakery</th>\n",
              "      <th>Bar</th>\n",
              "      <th>Bistro</th>\n",
              "      <th>Café</th>\n",
              "      <th>Chinese Restaurant</th>\n",
              "      <th>Cocktail Bar</th>\n",
              "      <th>Coffee Shop</th>\n",
              "      <th>Convenience Store</th>\n",
              "      <th>Deli / Bodega</th>\n",
              "      <th>Grocery Store</th>\n",
              "      <th>Hotel</th>\n",
              "      <th>Ice Cream Shop</th>\n",
              "      <th>Italian Restaurant</th>\n",
              "      <th>Mexican Restaurant</th>\n",
              "      <th>Park</th>\n",
              "      <th>Pizza Place</th>\n",
              "      <th>Restaurant</th>\n",
              "      <th>Sandwich Place</th>\n",
              "      <th>Supermarket</th>\n",
              "      <th>Wine Bar</th>\n",
              "    </tr>\n",
              "  </thead>\n",
              "  <tbody>\n",
              "    <tr>\n",
              "      <th>0</th>\n",
              "      <td>Paris</td>\n",
              "      <td>75001</td>\n",
              "      <td>0.017857</td>\n",
              "      <td>0.035714</td>\n",
              "      <td>0.035714</td>\n",
              "      <td>0.107143</td>\n",
              "      <td>0.017857</td>\n",
              "      <td>0.017857</td>\n",
              "      <td>0.107143</td>\n",
              "      <td>0.0</td>\n",
              "      <td>0.000000</td>\n",
              "      <td>0.017857</td>\n",
              "      <td>0.125000</td>\n",
              "      <td>0.000000</td>\n",
              "      <td>0.035714</td>\n",
              "      <td>0.000000</td>\n",
              "      <td>0.000000</td>\n",
              "      <td>0.017857</td>\n",
              "      <td>0.410714</td>\n",
              "      <td>0.017857</td>\n",
              "      <td>0.000000</td>\n",
              "      <td>0.035714</td>\n",
              "    </tr>\n",
              "    <tr>\n",
              "      <th>1</th>\n",
              "      <td>Paris</td>\n",
              "      <td>75002</td>\n",
              "      <td>0.085106</td>\n",
              "      <td>0.042553</td>\n",
              "      <td>0.063830</td>\n",
              "      <td>0.000000</td>\n",
              "      <td>0.000000</td>\n",
              "      <td>0.127660</td>\n",
              "      <td>0.063830</td>\n",
              "      <td>0.0</td>\n",
              "      <td>0.000000</td>\n",
              "      <td>0.000000</td>\n",
              "      <td>0.063830</td>\n",
              "      <td>0.021277</td>\n",
              "      <td>0.085106</td>\n",
              "      <td>0.042553</td>\n",
              "      <td>0.000000</td>\n",
              "      <td>0.021277</td>\n",
              "      <td>0.276596</td>\n",
              "      <td>0.021277</td>\n",
              "      <td>0.000000</td>\n",
              "      <td>0.085106</td>\n",
              "    </tr>\n",
              "    <tr>\n",
              "      <th>2</th>\n",
              "      <td>Paris</td>\n",
              "      <td>75003</td>\n",
              "      <td>0.066667</td>\n",
              "      <td>0.000000</td>\n",
              "      <td>0.066667</td>\n",
              "      <td>0.088889</td>\n",
              "      <td>0.044444</td>\n",
              "      <td>0.066667</td>\n",
              "      <td>0.133333</td>\n",
              "      <td>0.0</td>\n",
              "      <td>0.044444</td>\n",
              "      <td>0.000000</td>\n",
              "      <td>0.000000</td>\n",
              "      <td>0.000000</td>\n",
              "      <td>0.066667</td>\n",
              "      <td>0.000000</td>\n",
              "      <td>0.022222</td>\n",
              "      <td>0.022222</td>\n",
              "      <td>0.244444</td>\n",
              "      <td>0.066667</td>\n",
              "      <td>0.022222</td>\n",
              "      <td>0.044444</td>\n",
              "    </tr>\n",
              "    <tr>\n",
              "      <th>3</th>\n",
              "      <td>Paris</td>\n",
              "      <td>75004</td>\n",
              "      <td>0.048780</td>\n",
              "      <td>0.000000</td>\n",
              "      <td>0.024390</td>\n",
              "      <td>0.024390</td>\n",
              "      <td>0.000000</td>\n",
              "      <td>0.024390</td>\n",
              "      <td>0.048780</td>\n",
              "      <td>0.0</td>\n",
              "      <td>0.024390</td>\n",
              "      <td>0.000000</td>\n",
              "      <td>0.097561</td>\n",
              "      <td>0.146341</td>\n",
              "      <td>0.048780</td>\n",
              "      <td>0.000000</td>\n",
              "      <td>0.048780</td>\n",
              "      <td>0.024390</td>\n",
              "      <td>0.365854</td>\n",
              "      <td>0.000000</td>\n",
              "      <td>0.000000</td>\n",
              "      <td>0.073171</td>\n",
              "    </tr>\n",
              "    <tr>\n",
              "      <th>4</th>\n",
              "      <td>Paris</td>\n",
              "      <td>75005</td>\n",
              "      <td>0.085106</td>\n",
              "      <td>0.063830</td>\n",
              "      <td>0.021277</td>\n",
              "      <td>0.106383</td>\n",
              "      <td>0.000000</td>\n",
              "      <td>0.000000</td>\n",
              "      <td>0.063830</td>\n",
              "      <td>0.0</td>\n",
              "      <td>0.000000</td>\n",
              "      <td>0.000000</td>\n",
              "      <td>0.148936</td>\n",
              "      <td>0.021277</td>\n",
              "      <td>0.106383</td>\n",
              "      <td>0.021277</td>\n",
              "      <td>0.021277</td>\n",
              "      <td>0.021277</td>\n",
              "      <td>0.276596</td>\n",
              "      <td>0.000000</td>\n",
              "      <td>0.000000</td>\n",
              "      <td>0.042553</td>\n",
              "    </tr>\n",
              "  </tbody>\n",
              "</table>\n",
              "</div>"
            ],
            "text/plain": [
              "    City Neighbourhood    Bakery  ...  Sandwich Place  Supermarket  Wine Bar\n",
              "0  Paris         75001  0.017857  ...        0.017857     0.000000  0.035714\n",
              "1  Paris         75002  0.085106  ...        0.021277     0.000000  0.085106\n",
              "2  Paris         75003  0.066667  ...        0.066667     0.022222  0.044444\n",
              "3  Paris         75004  0.048780  ...        0.000000     0.000000  0.073171\n",
              "4  Paris         75005  0.085106  ...        0.000000     0.000000  0.042553\n",
              "\n",
              "[5 rows x 22 columns]"
            ]
          },
          "metadata": {
            "tags": []
          },
          "execution_count": 7
        }
      ]
    },
    {
      "cell_type": "markdown",
      "metadata": {
        "id": "-4Md42cGRcQu",
        "colab_type": "text"
      },
      "source": [
        "**Step 3: Exploratory data analysis**\n",
        "\n",
        "Examine whether there are apparent differences in the venue category patterns between cities by examining the distribution of proportions within each city."
      ]
    },
    {
      "cell_type": "code",
      "metadata": {
        "id": "fLc-MfM25zEK",
        "colab_type": "code",
        "outputId": "01b27263-94fb-4941-c1a1-6f538632f768",
        "colab": {
          "base_uri": "https://localhost:8080/",
          "height": 1000
        }
      },
      "source": [
        "# construct a boxplot over the neighbourhoods in each city, with a separate box for each venue category\n",
        "import matplotlib.pyplot as plt\n",
        "prop_cols = df_neighbourhoods.columns.values.tolist()[2:22]\n",
        "\n",
        "for this_city in ['New York', 'Paris', 'Tokyo']:\n",
        "  df_plot = df_neighbourhoods[df_neighbourhoods['City'] == this_city]\n",
        "  plt.figure(figsize=[30,6])\n",
        "  plt.title(this_city)\n",
        "  df_plot.boxplot(column=prop_cols)"
      ],
      "execution_count": 8,
      "outputs": [
        {
          "output_type": "display_data",
          "data": {
            "image/png": "[encoded data removed]",
            "text/plain": [
              "<Figure size 2160x432 with 1 Axes>"
            ]
          },
          "metadata": {
            "tags": []
          }
        },
        {
          "output_type": "display_data",
          "data": {
            "image/png": "[encoded data removed]",
            "text/plain": [
              "<Figure size 2160x432 with 1 Axes>"
            ]
          },
          "metadata": {
            "tags": []
          }
        },
        {
          "output_type": "display_data",
          "data": {
            "image/png": "[encoded data removed]",
            "text/plain": [
              "<Figure size 2160x432 with 1 Axes>"
            ]
          },
          "metadata": {
            "tags": []
          }
        }
      ]
    },
    {
      "cell_type": "markdown",
      "metadata": {
        "id": "sIZbcmrf5zs_",
        "colab_type": "text"
      },
      "source": [
        "There are clear differences between the venue categories in each city. For example, 'Deli / Bodega' occurs almost always in New York, and Paris has almost no Chinese Restaurants. This suggests that a decision tree will be able to differentiate between the cities.\n",
        "\n",
        "**Step 4: Prepare for decision tree**\n",
        "\n",
        "There are 85 neighbourhoods distributed over three cities and some neighbourhoods have very small numbers of venues and consequently unusual patterns of categories. The neighbourhoods are split into two groups, one for training the decision tree and the other for testing on new data. Due to the small size of the sample, a relatively high proportion (30%) is used for testing."
      ]
    },
    {
      "cell_type": "code",
      "metadata": {
        "id": "ZO2YBcCrOe3q",
        "colab_type": "code",
        "colab": {}
      },
      "source": [
        "from sklearn.model_selection import train_test_split\n",
        "from sklearn.tree import DecisionTreeClassifier\n",
        "\n",
        "# split the neighbourhoods into training and test data, array data structures required\n",
        "features = df_neighbourhoods[prop_cols].values\n",
        "classes = df_neighbourhoods['City'].values\n",
        "features_trainset, features_testset, classes_trainset, classes_testset = train_test_split(features, classes, test_size=0.3, random_state=123)"
      ],
      "execution_count": 0,
      "outputs": []
    },
    {
      "cell_type": "markdown",
      "metadata": {
        "id": "BNJmsn7bOfmE",
        "colab_type": "text"
      },
      "source": [
        "# Results\n",
        "\n",
        "Construct the decision tree. Depth limit is varied to compare performance with usability. The decision tree correctly classifies (on training data) all neighbourhoods with a depth of 4 to 8 (with different training samples)."
      ]
    },
    {
      "cell_type": "code",
      "metadata": {
        "id": "VpsMAp2Sjds3",
        "colab_type": "code",
        "outputId": "65fa1152-fc83-4fe7-9ca1-d9ea226f4cd7",
        "colab": {
          "base_uri": "https://localhost:8080/",
          "height": 119
        }
      },
      "source": [
        "# create and fit the decision tree\n",
        "city_tree = DecisionTreeClassifier(criterion=\"entropy\", max_depth = 3)\n",
        "city_tree.fit(features_trainset, classes_trainset)"
      ],
      "execution_count": 10,
      "outputs": [
        {
          "output_type": "execute_result",
          "data": {
            "text/plain": [
              "DecisionTreeClassifier(ccp_alpha=0.0, class_weight=None, criterion='entropy',\n",
              "                       max_depth=3, max_features=None, max_leaf_nodes=None,\n",
              "                       min_impurity_decrease=0.0, min_impurity_split=None,\n",
              "                       min_samples_leaf=1, min_samples_split=2,\n",
              "                       min_weight_fraction_leaf=0.0, presort='deprecated',\n",
              "                       random_state=None, splitter='best')"
            ]
          },
          "metadata": {
            "tags": []
          },
          "execution_count": 10
        }
      ]
    },
    {
      "cell_type": "markdown",
      "metadata": {
        "id": "RnL4NqLjtlt1",
        "colab_type": "text"
      },
      "source": [
        "Visualise the decision tree, to see its performance and depth. By inspection, maximum depth of 3 was selected to balance complexity with performance, as this results in some leaves with pure selection for each city and the leaves with mixed cities represent only a small number of neighbourhoods.\n"
      ]
    },
    {
      "cell_type": "code",
      "metadata": {
        "id": "-dQwkBpht3E3",
        "colab_type": "code",
        "outputId": "35c01d39-3f72-4bb5-f167-2fde60283262",
        "colab": {
          "base_uri": "https://localhost:8080/",
          "height": 802
        }
      },
      "source": [
        "from sklearn.externals.six import StringIO\n",
        "import pydotplus\n",
        "import matplotlib.image as mpimg\n",
        "from sklearn import tree\n",
        "%matplotlib inline\n",
        "\n",
        "dot_data = StringIO()\n",
        "filename = \"cityDT.png\"\n",
        "out=tree.export_graphviz(city_tree,\n",
        "                         feature_names=prop_cols,\n",
        "                         out_file=dot_data,\n",
        "                         class_names= np.unique(classes_trainset),\n",
        "                         filled=True, special_characters=True, rotate=False)  \n",
        "graph = pydotplus.graph_from_dot_data(dot_data.getvalue())  \n",
        "graph.write_png(filename)\n",
        "img = mpimg.imread(filename)\n",
        "plt.figure(figsize=(15, 15))\n",
        "plt.imshow(img,interpolation='nearest')"
      ],
      "execution_count": 11,
      "outputs": [
        {
          "output_type": "stream",
          "text": [
            "/usr/local/lib/python3.6/dist-packages/sklearn/externals/six.py:31: FutureWarning: The module is deprecated in version 0.21 and will be removed in version 0.23 since we've dropped support for Python 2.7. Please rely on the official version of six (https://pypi.org/project/six/).\n",
            "  \"(https://pypi.org/project/six/).\", FutureWarning)\n"
          ],
          "name": "stderr"
        },
        {
          "output_type": "execute_result",
          "data": {
            "text/plain": [
              "<matplotlib.image.AxesImage at 0x7fabfa6622e8>"
            ]
          },
          "metadata": {
            "tags": []
          },
          "execution_count": 11
        },
        {
          "output_type": "display_data",
          "data": {
            "image/png": "[encoded data removed]",
            "text/plain": [
              "<Figure size 1080x1080 with 1 Axes>"
            ]
          },
          "metadata": {
            "tags": []
          }
        }
      ]
    },
    {
      "cell_type": "markdown",
      "metadata": {
        "id": "KZlc3pR11zZG",
        "colab_type": "text"
      },
      "source": [
        "Measure performance with the testing dataset to estimate performance for novel neighbourhoods."
      ]
    },
    {
      "cell_type": "code",
      "metadata": {
        "id": "d1Vte1LV2kNm",
        "colab_type": "code",
        "outputId": "337aad7c-3807-4e4d-91d5-7c84b42aa2d2",
        "colab": {
          "base_uri": "https://localhost:8080/",
          "height": 51
        }
      },
      "source": [
        "from sklearn import metrics\n",
        "\n",
        "# accuracy on training data (for comparison)\n",
        "train_prediction = city_tree.predict(features_trainset)\n",
        "print(\"Decision Tree Accuracy (training data): \", metrics.accuracy_score(classes_trainset, train_prediction))\n",
        "\n",
        "# accuracy on training data (for comparison)\n",
        "test_prediction = city_tree.predict(features_testset)\n",
        "print(\"Decision Tree Accuracy (test data): \", metrics.accuracy_score(classes_testset, test_prediction))"
      ],
      "execution_count": 12,
      "outputs": [
        {
          "output_type": "stream",
          "text": [
            "Decision Tree Accuracy (training data):  0.9322033898305084\n",
            "Decision Tree Accuracy (test data):  0.8076923076923077\n"
          ],
          "name": "stdout"
        }
      ]
    },
    {
      "cell_type": "markdown",
      "metadata": {
        "id": "bgeJgSR77WV-",
        "colab_type": "text"
      },
      "source": [
        "# Discussion\n",
        "\n",
        "The decision to reduce the number of levels is supported by the performance difference for the samples of neighbourhoods used to train the decision tree and that used to test it. The reduction in accuracy suggests that the tree is partially fitting noise.\n",
        "\n",
        "With a depth of 3, the decision tree assigns the correct city to 81% of the neighbourhoods in the test data. This suggests that there are meaningful differences between the type of venues described by Foursquare users in the metropolitan areas of three global cities: New York, Tokyo and Paris.\n",
        "\n",
        "The most important distinguishing feature is the presence of convenience stores. All the neighbourhoods in Tokyo had more convenience stores (at least 17.2% of venues) than any of the metropolitan neighbourhoods in the other cities. Ignoring convenience stores, the path to the largest number of neighbourhoods in Paris follows a relatively high proportion of bistros and a small proportion of deli/bodegas. In contrast, the largest number of neighbourhoods in New York are identified as they have a relatively small proportion of bistros and restaurants.\n",
        "\n",
        "This suggests future research that examines how convenience stores are used in Japan and what makes them attractive compared to other types of stores. \n",
        "\n",
        "# Conclusion\n",
        "\n",
        "Despite the global movements of people and goods, neighbourhoods retain some local flavour even in the metropolitan areas of some of the most globally oriented cities. Such local flavour is evident in the types of venues that are available. For example, Tokyo is characterised by a high proportion of convenience stores.\n",
        "\n",
        "Much of the difference between neighbourhoods is expressed through patterns of restaurants and other eating venues. This suggests that eating plays an important part in cultural identity.\n",
        "\n",
        "-----\n",
        "\n",
        "\n",
        "# EXAMPLE BLOG\n",
        "\n",
        "*Nobody really cares about some random data science student who has done a project about venue differences. So I am providing the potential content of a blog below, without actually presenting it as a blog in a public forum.*\n",
        "\n",
        "There is much talk about the effects of globalisation. It is clear from the Covid-19 pandemic that the world is interconnected. But has the movement of people changed the culture so much that it is no longer obvious where you are?\n",
        "\n",
        "New York (USA), Paris (France) and Tokyo (Japan) are great cities, regularly appearing high in lits of top global cities (see, for example, https://en.wikipedia.org/wiki/Global_city). If globalisation causes the loss of cultural identity, it would be most obvious in the metropolitan areas of these cities.\n",
        "\n",
        "One way to investigate this is to look at the types of venues that are present in these metropolitan areas, such as restaurants, fashion houses, banks and museums. I looked at such information about the most popular venues in each of the metropolitan neighbourhoods in these cities. What I found is that cultural identity is alive and well. It is true that restaurants, coffee shops and Italian restaurants are popular everywhere, subtle remineders of cultural differences remain. Tokyo residents use convenience stores, and Parisians frequent bistros.\n",
        "\n",
        "Maybe these differences reflect the way in which venues are described, rather than what they actually provide. But, either way, there is a difference in the way that people think about the places they go to when they are in New York, Paris or Tokyo. And isn't that what is meant by culture?\n",
        "\n",
        "\n"
      ]
    }
  ]
}