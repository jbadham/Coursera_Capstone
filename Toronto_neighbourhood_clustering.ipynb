{
  "nbformat": 4,
  "nbformat_minor": 0,
  "metadata": {
    "kernelspec": {
      "display_name": "Python 3.6",
      "language": "python",
      "name": "python3"
    },
    "language_info": {
      "codemirror_mode": {
        "name": "ipython",
        "version": 3
      },
      "file_extension": ".py",
      "mimetype": "text/x-python",
      "name": "python",
      "nbconvert_exporter": "python",
      "pygments_lexer": "ipython3",
      "version": "3.6.9"
    },
    "colab": {
      "name": "Toronto neighbourhood clustering.ipynb",
      "provenance": [],
      "collapsed_sections": [],
      "include_colab_link": true
    }
  },
  "cells": [
    {
      "cell_type": "markdown",
      "metadata": {
        "id": "view-in-github",
        "colab_type": "text"
      },
      "source": [
        "<a href=\"https://colab.research.google.com/github/jbadham/Coursera_Capstone/blob/master/Toronto_neighbourhood_clustering.ipynb\" target=\"_parent\"><img src=\"https://colab.research.google.com/assets/colab-badge.svg\" alt=\"Open In Colab\"/></a>"
      ]
    },
    {
      "cell_type": "markdown",
      "metadata": {
        "collapsed": true,
        "id": "cJIT4wriVYEu",
        "colab_type": "text"
      },
      "source": [
        "# Toronto Neighbourhood clustering\n",
        "\n",
        "Created by Jennifer Badham for the IBM Professional Certificate in Data Science  \n",
        "March 2020  \n",
        "\n",
        "## Context\n",
        "\n",
        "The objective is to cluster neighbourhoods in the city of Toronto based on similarity of the venues they offer. The general method is to obtain information about the venues available in each neighbourhood and count such venues by category (such as park or italian restaurant). The profile of a neighbourhood describes the proportion of venues in each of these categories. Neighbourhoods are clustered by similarity of their profiles."
      ]
    },
    {
      "cell_type": "code",
      "metadata": {
        "id": "Aeb0ZElVVYEx",
        "colab_type": "code",
        "colab": {}
      },
      "source": [
        "# preparation - load libraries\n",
        "import pandas as pd\n",
        "import numpy as np"
      ],
      "execution_count": 0,
      "outputs": []
    },
    {
      "cell_type": "markdown",
      "metadata": {
        "id": "sBtA-i4eVYE2",
        "colab_type": "text"
      },
      "source": [
        "## Part 1: Obtain neighbourhood information\n",
        "\n",
        "The Toronto postal code system assigns a code starting with M to each neighbourhood. The postal code information is scraped from the Widipedia page at https://en.wikipedia.org/w/index.php?title=List_of_postal_codes_of_Canada:\\_M&oldid=890001695 to construct a dataframe of neighboodhoods with their postal codes.\n",
        "\n",
        "**Step 1: Scrape the webpage and confirm the text has been downloaded.**"
      ]
    },
    {
      "cell_type": "code",
      "metadata": {
        "id": "CZz4sctmVYE4",
        "colab_type": "code",
        "outputId": "684b2256-7e00-4a04-ab94-9671aeba2956",
        "colab": {
          "base_uri": "https://localhost:8080/",
          "height": 156
        }
      },
      "source": [
        "from requests import get\n",
        "url = 'https://en.wikipedia.org/w/index.php?title=List_of_postal_codes_of_Canada:_M&oldid=890001695'\n",
        "response = get(url)\n",
        "print(response.text[:1000])"
      ],
      "execution_count": 2,
      "outputs": [
        {
          "output_type": "stream",
          "text": [
            "\n",
            "<!DOCTYPE html>\n",
            "<html class=\"client-nojs\" lang=\"en\" dir=\"ltr\">\n",
            "<head>\n",
            "<meta charset=\"UTF-8\"/>\n",
            "<title>List of postal codes of Canada: M - Wikipedia</title>\n",
            "<script>document.documentElement.className=\"client-js\";RLCONF={\"wgBreakFrames\":!1,\"wgSeparatorTransformTable\":[\"\",\"\"],\"wgDigitTransformTable\":[\"\",\"\"],\"wgDefaultDateFormat\":\"dmy\",\"wgMonthNames\":[\"\",\"January\",\"February\",\"March\",\"April\",\"May\",\"June\",\"July\",\"August\",\"September\",\"October\",\"November\",\"December\"],\"wgRequestId\":\"Xn8@zApAAEYAAIzw0x4AAACM\",\"wgCSPNonce\":!1,\"wgCanonicalNamespace\":\"\",\"wgCanonicalSpecialPageName\":!1,\"wgNamespaceNumber\":0,\"wgPageName\":\"List_of_postal_codes_of_Canada:_M\",\"wgTitle\":\"List of postal codes of Canada: M\",\"wgCurRevisionId\":947772202,\"wgRevisionId\":890001695,\"wgArticleId\":539066,\"wgIsArticle\":!0,\"wgIsRedirect\":!1,\"wgAction\":\"view\",\"wgUserName\":null,\"wgUserGroups\":[\"*\"],\"wgCategories\":[\"Pages with citations using unsupported parameters\",\"Communications in Ontario\",\"Postal codes in Canada\",\"Toronto\",\"Ontari\n"
          ],
          "name": "stdout"
        }
      ]
    },
    {
      "cell_type": "markdown",
      "metadata": {
        "id": "HlslMsP7VYE9",
        "colab_type": "text"
      },
      "source": [
        "**Step 2: Extract key information and format**\n",
        "\n",
        "The required information is stored as cells in a table (html tag is 'td' within a row 'tr'). So, first create a separate record for each table cell and inspect some."
      ]
    },
    {
      "cell_type": "code",
      "metadata": {
        "id": "E5L5wTYxVYE-",
        "colab_type": "code",
        "outputId": "5a2e6329-d09d-4c30-fb46-2cf582632a33",
        "colab": {
          "base_uri": "https://localhost:8080/",
          "height": 136
        }
      },
      "source": [
        "# construct a BeautifulSoup object with the scraped webpage\n",
        "from bs4 import BeautifulSoup\n",
        "soup = BeautifulSoup(response.text, 'html.parser')\n",
        "\n",
        "# extract cells and display count and example\n",
        "nbr_info = soup.find_all('tr')\n",
        "print(\"Number of cells found:\", len(nbr_info))\n",
        "print(nbr_info[1].text)\n",
        "nbr_info[1].text"
      ],
      "execution_count": 3,
      "outputs": [
        {
          "output_type": "stream",
          "text": [
            "Number of cells found: 294\n",
            "\n",
            "M1A\n",
            "Not assigned\n",
            "Not assigned\n",
            "\n"
          ],
          "name": "stdout"
        },
        {
          "output_type": "execute_result",
          "data": {
            "text/plain": [
              "'\\nM1A\\nNot assigned\\nNot assigned\\n'"
            ]
          },
          "metadata": {
            "tags": []
          },
          "execution_count": 3
        }
      ]
    },
    {
      "cell_type": "markdown",
      "metadata": {
        "id": "JVdUVlUQVYFE",
        "colab_type": "text"
      },
      "source": [
        "Examine the structure of a single row in the soup object and confirm the 'td' tags."
      ]
    },
    {
      "cell_type": "code",
      "metadata": {
        "id": "46KNXGVHVYFG",
        "colab_type": "code",
        "outputId": "ea3ac548-bde0-4659-c440-4d7323e846ab",
        "colab": {
          "base_uri": "https://localhost:8080/",
          "height": 51
        }
      },
      "source": [
        "nbr_info[1].find_all('td')"
      ],
      "execution_count": 4,
      "outputs": [
        {
          "output_type": "execute_result",
          "data": {
            "text/plain": [
              "[<td>M1A</td>, <td>Not assigned</td>, <td>Not assigned\n",
              " </td>]"
            ]
          },
          "metadata": {
            "tags": []
          },
          "execution_count": 4
        }
      ]
    },
    {
      "cell_type": "markdown",
      "metadata": {
        "id": "86kSn6aCVYFM",
        "colab_type": "text"
      },
      "source": [
        "For each of the results, the postal code is in the first table cell ('td') tag, the name of the borough is in the second, and the neighbourhood is in the third. So, construct lists of each of these data items with a loop through the rows."
      ]
    },
    {
      "cell_type": "code",
      "metadata": {
        "id": "OlW2ld8KVYFN",
        "colab_type": "code",
        "colab": {}
      },
      "source": [
        "# construct empty lists to store the extracted data\n",
        "codes = []\n",
        "boroughs = []\n",
        "neighbourhoods = []\n",
        "\n",
        "# loop through the results, send postal code to code list\n",
        "for this_line in nbr_info:\n",
        "     # loop through table cell tags within one record\n",
        "    names = []\n",
        "    for this_tag in this_line.find_all('td'):\n",
        "        names.append(this_tag.text)\n",
        "    if len(names) > 2:\n",
        "        codes.append(names[0])\n",
        "        boroughs.append(names[1])\n",
        "        neighbourhoods.append(names[2])"
      ],
      "execution_count": 0,
      "outputs": []
    },
    {
      "cell_type": "markdown",
      "metadata": {
        "id": "k6Uo_0C4VYFT",
        "colab_type": "text"
      },
      "source": [
        "Convert to a dataframe and clean. Cleaning removes the last three records, postal codes that are not assigned, and combines neighbourhoods with the same postal code."
      ]
    },
    {
      "cell_type": "code",
      "metadata": {
        "id": "I728CSUKVYFU",
        "colab_type": "code",
        "outputId": "63c54583-86d9-446b-8b5e-7443c305f3a7",
        "colab": {
          "base_uri": "https://localhost:8080/",
          "height": 436
        }
      },
      "source": [
        "# create the dataframe\n",
        "locs = pd.DataFrame({\n",
        "    'PostalCode': codes,\n",
        "    'Borough': boroughs,\n",
        "    'Neighbourhood': neighbourhoods\n",
        "})\n",
        "print(\"Number of neighbourhoods before cleaning:\", len(locs))\n",
        "\n",
        "# From inspection, remove last three records\n",
        "locs = locs.iloc[0:len(locs)-3]\n",
        "# and the last two characters (\\n) of neighbourhood\n",
        "locs['Neighbourhood'] = locs['Neighbourhood'].str.replace(r'\\n', '')\n",
        "locs"
      ],
      "execution_count": 6,
      "outputs": [
        {
          "output_type": "stream",
          "text": [
            "Number of neighbourhoods before cleaning: 291\n"
          ],
          "name": "stdout"
        },
        {
          "output_type": "execute_result",
          "data": {
            "text/html": [
              "<div>\n",
              "<style scoped>\n",
              "    .dataframe tbody tr th:only-of-type {\n",
              "        vertical-align: middle;\n",
              "    }\n",
              "\n",
              "    .dataframe tbody tr th {\n",
              "        vertical-align: top;\n",
              "    }\n",
              "\n",
              "    .dataframe thead th {\n",
              "        text-align: right;\n",
              "    }\n",
              "</style>\n",
              "<table border=\"1\" class=\"dataframe\">\n",
              "  <thead>\n",
              "    <tr style=\"text-align: right;\">\n",
              "      <th></th>\n",
              "      <th>PostalCode</th>\n",
              "      <th>Borough</th>\n",
              "      <th>Neighbourhood</th>\n",
              "    </tr>\n",
              "  </thead>\n",
              "  <tbody>\n",
              "    <tr>\n",
              "      <th>0</th>\n",
              "      <td>M1A</td>\n",
              "      <td>Not assigned</td>\n",
              "      <td>Not assigned</td>\n",
              "    </tr>\n",
              "    <tr>\n",
              "      <th>1</th>\n",
              "      <td>M2A</td>\n",
              "      <td>Not assigned</td>\n",
              "      <td>Not assigned</td>\n",
              "    </tr>\n",
              "    <tr>\n",
              "      <th>2</th>\n",
              "      <td>M3A</td>\n",
              "      <td>North York</td>\n",
              "      <td>Parkwoods</td>\n",
              "    </tr>\n",
              "    <tr>\n",
              "      <th>3</th>\n",
              "      <td>M4A</td>\n",
              "      <td>North York</td>\n",
              "      <td>Victoria Village</td>\n",
              "    </tr>\n",
              "    <tr>\n",
              "      <th>4</th>\n",
              "      <td>M5A</td>\n",
              "      <td>Downtown Toronto</td>\n",
              "      <td>Harbourfront</td>\n",
              "    </tr>\n",
              "    <tr>\n",
              "      <th>...</th>\n",
              "      <td>...</td>\n",
              "      <td>...</td>\n",
              "      <td>...</td>\n",
              "    </tr>\n",
              "    <tr>\n",
              "      <th>283</th>\n",
              "      <td>M8Z</td>\n",
              "      <td>Etobicoke</td>\n",
              "      <td>Mimico NW</td>\n",
              "    </tr>\n",
              "    <tr>\n",
              "      <th>284</th>\n",
              "      <td>M8Z</td>\n",
              "      <td>Etobicoke</td>\n",
              "      <td>The Queensway West</td>\n",
              "    </tr>\n",
              "    <tr>\n",
              "      <th>285</th>\n",
              "      <td>M8Z</td>\n",
              "      <td>Etobicoke</td>\n",
              "      <td>Royal York South West</td>\n",
              "    </tr>\n",
              "    <tr>\n",
              "      <th>286</th>\n",
              "      <td>M8Z</td>\n",
              "      <td>Etobicoke</td>\n",
              "      <td>South of Bloor</td>\n",
              "    </tr>\n",
              "    <tr>\n",
              "      <th>287</th>\n",
              "      <td>M9Z</td>\n",
              "      <td>Not assigned</td>\n",
              "      <td>Not assigned</td>\n",
              "    </tr>\n",
              "  </tbody>\n",
              "</table>\n",
              "<p>288 rows × 3 columns</p>\n",
              "</div>"
            ],
            "text/plain": [
              "    PostalCode           Borough          Neighbourhood\n",
              "0          M1A      Not assigned           Not assigned\n",
              "1          M2A      Not assigned           Not assigned\n",
              "2          M3A        North York              Parkwoods\n",
              "3          M4A        North York       Victoria Village\n",
              "4          M5A  Downtown Toronto           Harbourfront\n",
              "..         ...               ...                    ...\n",
              "283        M8Z         Etobicoke              Mimico NW\n",
              "284        M8Z         Etobicoke     The Queensway West\n",
              "285        M8Z         Etobicoke  Royal York South West\n",
              "286        M8Z         Etobicoke         South of Bloor\n",
              "287        M9Z      Not assigned           Not assigned\n",
              "\n",
              "[288 rows x 3 columns]"
            ]
          },
          "metadata": {
            "tags": []
          },
          "execution_count": 6
        }
      ]
    },
    {
      "cell_type": "code",
      "metadata": {
        "id": "q-IZM_sPVYFY",
        "colab_type": "code",
        "outputId": "f0e1bdb8-952f-486e-a6c2-7d79a628167a",
        "colab": {
          "base_uri": "https://localhost:8080/",
          "height": 487
        }
      },
      "source": [
        "# remove the codes that are not assigned\n",
        "locs2 = locs[(locs['Borough'] != \"Not assigned\")]\n",
        "print(\"Number of neighbourhoods after deleting irrelevant rows:\", len(locs2))\n",
        "\n",
        "# combine the neighbourhoods in each borough\n",
        "df_codes = locs2.groupby(['PostalCode', 'Borough'], as_index = False).agg({'Neighbourhood': ', '.join})\n",
        "print(\"Number of postal codes in cleaned dataframe:\", len(df_codes))\n",
        "\n",
        "# if a neighbourhood is 'Not assigned', use the borough name\n",
        "print(\"Neighbourhoods not assigned, before correction:\", sum(df_codes['Neighbourhood'] == \"Not assigned\"))\n",
        "df_codes.loc[df_codes['Neighbourhood'] == \"Not assigned\", \"Neighbourhood\"] = df_codes.loc[df_codes['Neighbourhood'] == \"Not assigned\", \"Borough\"]\n",
        "print(\"Neighbourhoods not assigned, after correction:\", sum(df_codes['Neighbourhood'] == \"Not assigned\"))\n",
        "\n",
        "# inspect results\n",
        "df_codes"
      ],
      "execution_count": 7,
      "outputs": [
        {
          "output_type": "stream",
          "text": [
            "Number of neighbourhoods after deleting irrelevant rows: 211\n",
            "Number of postal codes in cleaned dataframe: 103\n",
            "Neighbourhoods not assigned, before correction: 1\n",
            "Neighbourhoods not assigned, after correction: 0\n"
          ],
          "name": "stdout"
        },
        {
          "output_type": "execute_result",
          "data": {
            "text/html": [
              "<div>\n",
              "<style scoped>\n",
              "    .dataframe tbody tr th:only-of-type {\n",
              "        vertical-align: middle;\n",
              "    }\n",
              "\n",
              "    .dataframe tbody tr th {\n",
              "        vertical-align: top;\n",
              "    }\n",
              "\n",
              "    .dataframe thead th {\n",
              "        text-align: right;\n",
              "    }\n",
              "</style>\n",
              "<table border=\"1\" class=\"dataframe\">\n",
              "  <thead>\n",
              "    <tr style=\"text-align: right;\">\n",
              "      <th></th>\n",
              "      <th>PostalCode</th>\n",
              "      <th>Borough</th>\n",
              "      <th>Neighbourhood</th>\n",
              "    </tr>\n",
              "  </thead>\n",
              "  <tbody>\n",
              "    <tr>\n",
              "      <th>0</th>\n",
              "      <td>M1B</td>\n",
              "      <td>Scarborough</td>\n",
              "      <td>Rouge, Malvern</td>\n",
              "    </tr>\n",
              "    <tr>\n",
              "      <th>1</th>\n",
              "      <td>M1C</td>\n",
              "      <td>Scarborough</td>\n",
              "      <td>Highland Creek, Rouge Hill, Port Union</td>\n",
              "    </tr>\n",
              "    <tr>\n",
              "      <th>2</th>\n",
              "      <td>M1E</td>\n",
              "      <td>Scarborough</td>\n",
              "      <td>Guildwood, Morningside, West Hill</td>\n",
              "    </tr>\n",
              "    <tr>\n",
              "      <th>3</th>\n",
              "      <td>M1G</td>\n",
              "      <td>Scarborough</td>\n",
              "      <td>Woburn</td>\n",
              "    </tr>\n",
              "    <tr>\n",
              "      <th>4</th>\n",
              "      <td>M1H</td>\n",
              "      <td>Scarborough</td>\n",
              "      <td>Cedarbrae</td>\n",
              "    </tr>\n",
              "    <tr>\n",
              "      <th>...</th>\n",
              "      <td>...</td>\n",
              "      <td>...</td>\n",
              "      <td>...</td>\n",
              "    </tr>\n",
              "    <tr>\n",
              "      <th>98</th>\n",
              "      <td>M9N</td>\n",
              "      <td>York</td>\n",
              "      <td>Weston</td>\n",
              "    </tr>\n",
              "    <tr>\n",
              "      <th>99</th>\n",
              "      <td>M9P</td>\n",
              "      <td>Etobicoke</td>\n",
              "      <td>Westmount</td>\n",
              "    </tr>\n",
              "    <tr>\n",
              "      <th>100</th>\n",
              "      <td>M9R</td>\n",
              "      <td>Etobicoke</td>\n",
              "      <td>Kingsview Village, Martin Grove Gardens, Richv...</td>\n",
              "    </tr>\n",
              "    <tr>\n",
              "      <th>101</th>\n",
              "      <td>M9V</td>\n",
              "      <td>Etobicoke</td>\n",
              "      <td>Albion Gardens, Beaumond Heights, Humbergate, ...</td>\n",
              "    </tr>\n",
              "    <tr>\n",
              "      <th>102</th>\n",
              "      <td>M9W</td>\n",
              "      <td>Etobicoke</td>\n",
              "      <td>Northwest</td>\n",
              "    </tr>\n",
              "  </tbody>\n",
              "</table>\n",
              "<p>103 rows × 3 columns</p>\n",
              "</div>"
            ],
            "text/plain": [
              "    PostalCode      Borough                                      Neighbourhood\n",
              "0          M1B  Scarborough                                     Rouge, Malvern\n",
              "1          M1C  Scarborough             Highland Creek, Rouge Hill, Port Union\n",
              "2          M1E  Scarborough                  Guildwood, Morningside, West Hill\n",
              "3          M1G  Scarborough                                             Woburn\n",
              "4          M1H  Scarborough                                          Cedarbrae\n",
              "..         ...          ...                                                ...\n",
              "98         M9N         York                                             Weston\n",
              "99         M9P    Etobicoke                                          Westmount\n",
              "100        M9R    Etobicoke  Kingsview Village, Martin Grove Gardens, Richv...\n",
              "101        M9V    Etobicoke  Albion Gardens, Beaumond Heights, Humbergate, ...\n",
              "102        M9W    Etobicoke                                          Northwest\n",
              "\n",
              "[103 rows x 3 columns]"
            ]
          },
          "metadata": {
            "tags": []
          },
          "execution_count": 7
        }
      ]
    },
    {
      "cell_type": "markdown",
      "metadata": {
        "id": "Ub4iPW0kVYFc",
        "colab_type": "text"
      },
      "source": [
        "Neighbourhood information in required format, report rows"
      ]
    },
    {
      "cell_type": "code",
      "metadata": {
        "id": "Y87pCNyhVYFd",
        "colab_type": "code",
        "outputId": "8b8c9b80-3a81-4913-ce29-fdebdd387e35",
        "colab": {
          "base_uri": "https://localhost:8080/",
          "height": 34
        }
      },
      "source": [
        "print(\"Number of rows in neighbourhood dataframe:\", df_codes.shape[0])"
      ],
      "execution_count": 8,
      "outputs": [
        {
          "output_type": "stream",
          "text": [
            "Number of rows in neighbourhood dataframe: 103\n"
          ],
          "name": "stdout"
        }
      ]
    },
    {
      "cell_type": "markdown",
      "metadata": {
        "id": "OVw5aBekVYFi",
        "colab_type": "text"
      },
      "source": [
        "# Part 2: Add geolocation information\n",
        "\n",
        "Use the Python geocoder package to obtain latitude and longitude information from the postal code. As advised in the assignment description, use a while loop (code provided) to repeat the request until the information is obtained."
      ]
    },
    {
      "cell_type": "code",
      "metadata": {
        "id": "zEWRIH6aVYFk",
        "colab_type": "code",
        "colab": {}
      },
      "source": [
        "# !pip install geocoder\n",
        "#import geocoder\n",
        "\n",
        "# initialise lists to receive latitudes and longitudes\n",
        "#lats = []\n",
        "#longs = []\n",
        "\n",
        "# loop through the postal codes in the dataframe\n",
        "#for postal_code in df_codes['PostalCode']:\n",
        "    # create variable to receive geodata for an invidual postcode\n",
        " #   lat_lng_coords = None\n",
        "    # loop until coordinates obtained\n",
        " #   while(lat_lng_coords is None):\n",
        " #       g = geocoder.google('{}, Toronto, Ontario'.format(postal_code))\n",
        " #       lat_lng_coords = g.latlng\n",
        "    # geocoder is unreliable so report progress\n",
        " #   print(\"Coordinates obtained for:\", postal_code)\n",
        "    # add the results to the latitude and longitude lists\n",
        " #   lats.append(lat_lng_coords[0])\n",
        " #   longs.append(lat_lng_coords[1])\n",
        "    \n"
      ],
      "execution_count": 0,
      "outputs": []
    },
    {
      "cell_type": "markdown",
      "metadata": {
        "id": "c_hjaIWFCoWX",
        "colab_type": "text"
      },
      "source": [
        "\n",
        "However, repeated attempts led to infinite loops waiting for geocoder to provide the information. Hence, interrupt the loop and import the backup csv file instead."
      ]
    },
    {
      "cell_type": "code",
      "metadata": {
        "id": "grC6OShKCz4K",
        "colab_type": "code",
        "outputId": "1e154cb4-909d-49f6-d2a3-a36ca503a5c2",
        "colab": {
          "base_uri": "https://localhost:8080/",
          "height": 204
        }
      },
      "source": [
        "df_geocodes = pd.read_csv(\"http://cocl.us/Geospatial_data\")\n",
        "df_geocodes.head()"
      ],
      "execution_count": 9,
      "outputs": [
        {
          "output_type": "execute_result",
          "data": {
            "text/html": [
              "<div>\n",
              "<style scoped>\n",
              "    .dataframe tbody tr th:only-of-type {\n",
              "        vertical-align: middle;\n",
              "    }\n",
              "\n",
              "    .dataframe tbody tr th {\n",
              "        vertical-align: top;\n",
              "    }\n",
              "\n",
              "    .dataframe thead th {\n",
              "        text-align: right;\n",
              "    }\n",
              "</style>\n",
              "<table border=\"1\" class=\"dataframe\">\n",
              "  <thead>\n",
              "    <tr style=\"text-align: right;\">\n",
              "      <th></th>\n",
              "      <th>Postal Code</th>\n",
              "      <th>Latitude</th>\n",
              "      <th>Longitude</th>\n",
              "    </tr>\n",
              "  </thead>\n",
              "  <tbody>\n",
              "    <tr>\n",
              "      <th>0</th>\n",
              "      <td>M1B</td>\n",
              "      <td>43.806686</td>\n",
              "      <td>-79.194353</td>\n",
              "    </tr>\n",
              "    <tr>\n",
              "      <th>1</th>\n",
              "      <td>M1C</td>\n",
              "      <td>43.784535</td>\n",
              "      <td>-79.160497</td>\n",
              "    </tr>\n",
              "    <tr>\n",
              "      <th>2</th>\n",
              "      <td>M1E</td>\n",
              "      <td>43.763573</td>\n",
              "      <td>-79.188711</td>\n",
              "    </tr>\n",
              "    <tr>\n",
              "      <th>3</th>\n",
              "      <td>M1G</td>\n",
              "      <td>43.770992</td>\n",
              "      <td>-79.216917</td>\n",
              "    </tr>\n",
              "    <tr>\n",
              "      <th>4</th>\n",
              "      <td>M1H</td>\n",
              "      <td>43.773136</td>\n",
              "      <td>-79.239476</td>\n",
              "    </tr>\n",
              "  </tbody>\n",
              "</table>\n",
              "</div>"
            ],
            "text/plain": [
              "  Postal Code   Latitude  Longitude\n",
              "0         M1B  43.806686 -79.194353\n",
              "1         M1C  43.784535 -79.160497\n",
              "2         M1E  43.763573 -79.188711\n",
              "3         M1G  43.770992 -79.216917\n",
              "4         M1H  43.773136 -79.239476"
            ]
          },
          "metadata": {
            "tags": []
          },
          "execution_count": 9
        }
      ]
    },
    {
      "cell_type": "markdown",
      "metadata": {
        "id": "Azw7Fg1bDqS8",
        "colab_type": "text"
      },
      "source": [
        "Merge the dataframes by postal code to attach the latitude and longitude values to the neighbourhood names."
      ]
    },
    {
      "cell_type": "code",
      "metadata": {
        "id": "iwykBd-yDTsG",
        "colab_type": "code",
        "outputId": "ded10d00-ecd6-4036-b52a-fb455daa51eb",
        "colab": {
          "base_uri": "https://localhost:8080/",
          "height": 436
        }
      },
      "source": [
        "# merge the dataframes\n",
        "df_locations = pd.merge(df_codes, df_geocodes, left_on = \"PostalCode\", right_on = \"Postal Code\")\n",
        "df_locations.drop('Postal Code', axis = 'columns', inplace=True)\n",
        "print(\"Postal Codes in geo-located data:\", df_locations.shape[0])\n",
        "df_locations"
      ],
      "execution_count": 10,
      "outputs": [
        {
          "output_type": "stream",
          "text": [
            "Postal Codes in geo-located data: 103\n"
          ],
          "name": "stdout"
        },
        {
          "output_type": "execute_result",
          "data": {
            "text/html": [
              "<div>\n",
              "<style scoped>\n",
              "    .dataframe tbody tr th:only-of-type {\n",
              "        vertical-align: middle;\n",
              "    }\n",
              "\n",
              "    .dataframe tbody tr th {\n",
              "        vertical-align: top;\n",
              "    }\n",
              "\n",
              "    .dataframe thead th {\n",
              "        text-align: right;\n",
              "    }\n",
              "</style>\n",
              "<table border=\"1\" class=\"dataframe\">\n",
              "  <thead>\n",
              "    <tr style=\"text-align: right;\">\n",
              "      <th></th>\n",
              "      <th>PostalCode</th>\n",
              "      <th>Borough</th>\n",
              "      <th>Neighbourhood</th>\n",
              "      <th>Latitude</th>\n",
              "      <th>Longitude</th>\n",
              "    </tr>\n",
              "  </thead>\n",
              "  <tbody>\n",
              "    <tr>\n",
              "      <th>0</th>\n",
              "      <td>M1B</td>\n",
              "      <td>Scarborough</td>\n",
              "      <td>Rouge, Malvern</td>\n",
              "      <td>43.806686</td>\n",
              "      <td>-79.194353</td>\n",
              "    </tr>\n",
              "    <tr>\n",
              "      <th>1</th>\n",
              "      <td>M1C</td>\n",
              "      <td>Scarborough</td>\n",
              "      <td>Highland Creek, Rouge Hill, Port Union</td>\n",
              "      <td>43.784535</td>\n",
              "      <td>-79.160497</td>\n",
              "    </tr>\n",
              "    <tr>\n",
              "      <th>2</th>\n",
              "      <td>M1E</td>\n",
              "      <td>Scarborough</td>\n",
              "      <td>Guildwood, Morningside, West Hill</td>\n",
              "      <td>43.763573</td>\n",
              "      <td>-79.188711</td>\n",
              "    </tr>\n",
              "    <tr>\n",
              "      <th>3</th>\n",
              "      <td>M1G</td>\n",
              "      <td>Scarborough</td>\n",
              "      <td>Woburn</td>\n",
              "      <td>43.770992</td>\n",
              "      <td>-79.216917</td>\n",
              "    </tr>\n",
              "    <tr>\n",
              "      <th>4</th>\n",
              "      <td>M1H</td>\n",
              "      <td>Scarborough</td>\n",
              "      <td>Cedarbrae</td>\n",
              "      <td>43.773136</td>\n",
              "      <td>-79.239476</td>\n",
              "    </tr>\n",
              "    <tr>\n",
              "      <th>...</th>\n",
              "      <td>...</td>\n",
              "      <td>...</td>\n",
              "      <td>...</td>\n",
              "      <td>...</td>\n",
              "      <td>...</td>\n",
              "    </tr>\n",
              "    <tr>\n",
              "      <th>98</th>\n",
              "      <td>M9N</td>\n",
              "      <td>York</td>\n",
              "      <td>Weston</td>\n",
              "      <td>43.706876</td>\n",
              "      <td>-79.518188</td>\n",
              "    </tr>\n",
              "    <tr>\n",
              "      <th>99</th>\n",
              "      <td>M9P</td>\n",
              "      <td>Etobicoke</td>\n",
              "      <td>Westmount</td>\n",
              "      <td>43.696319</td>\n",
              "      <td>-79.532242</td>\n",
              "    </tr>\n",
              "    <tr>\n",
              "      <th>100</th>\n",
              "      <td>M9R</td>\n",
              "      <td>Etobicoke</td>\n",
              "      <td>Kingsview Village, Martin Grove Gardens, Richv...</td>\n",
              "      <td>43.688905</td>\n",
              "      <td>-79.554724</td>\n",
              "    </tr>\n",
              "    <tr>\n",
              "      <th>101</th>\n",
              "      <td>M9V</td>\n",
              "      <td>Etobicoke</td>\n",
              "      <td>Albion Gardens, Beaumond Heights, Humbergate, ...</td>\n",
              "      <td>43.739416</td>\n",
              "      <td>-79.588437</td>\n",
              "    </tr>\n",
              "    <tr>\n",
              "      <th>102</th>\n",
              "      <td>M9W</td>\n",
              "      <td>Etobicoke</td>\n",
              "      <td>Northwest</td>\n",
              "      <td>43.706748</td>\n",
              "      <td>-79.594054</td>\n",
              "    </tr>\n",
              "  </tbody>\n",
              "</table>\n",
              "<p>103 rows × 5 columns</p>\n",
              "</div>"
            ],
            "text/plain": [
              "    PostalCode      Borough  ...   Latitude  Longitude\n",
              "0          M1B  Scarborough  ...  43.806686 -79.194353\n",
              "1          M1C  Scarborough  ...  43.784535 -79.160497\n",
              "2          M1E  Scarborough  ...  43.763573 -79.188711\n",
              "3          M1G  Scarborough  ...  43.770992 -79.216917\n",
              "4          M1H  Scarborough  ...  43.773136 -79.239476\n",
              "..         ...          ...  ...        ...        ...\n",
              "98         M9N         York  ...  43.706876 -79.518188\n",
              "99         M9P    Etobicoke  ...  43.696319 -79.532242\n",
              "100        M9R    Etobicoke  ...  43.688905 -79.554724\n",
              "101        M9V    Etobicoke  ...  43.739416 -79.588437\n",
              "102        M9W    Etobicoke  ...  43.706748 -79.594054\n",
              "\n",
              "[103 rows x 5 columns]"
            ]
          },
          "metadata": {
            "tags": []
          },
          "execution_count": 10
        }
      ]
    },
    {
      "cell_type": "markdown",
      "metadata": {
        "id": "U-9vusIJGI-Z",
        "colab_type": "text"
      },
      "source": [
        "# Part 3: Cluster neighbourhoods by venue profile\n",
        "\n",
        "Neighbourhoods are to be clustered based on the similarity of their mix of venue types. Foursquare data will be used to extract up to 100 venues for each neighbourhood. The neighbourhood profile describes the proportion of venues in the neighbourhood that fall into each of the most common venue categories overall.\n",
        "\n",
        "**Step 1: Obtain venue information for each neighbourhood**"
      ]
    },
    {
      "cell_type": "code",
      "metadata": {
        "id": "AJ-tKn4SHpGd",
        "colab_type": "code",
        "outputId": "a65adeb6-6788-4773-a7bb-cf1152bbd593",
        "colab": {
          "base_uri": "https://localhost:8080/",
          "height": 419
        }
      },
      "source": [
        "import json # library to handle JSON files\n",
        "import requests # library to handle requests\n",
        "from pandas.io.json import json_normalize # tranform JSON file into a pandas dataframe\n",
        "\n",
        "# set up Foursquare credentials\n",
        "CLIENT_ID = 'CEWHNCOSODH3US5NVLI5H2ZKJN5FWHPEQS4BBJSRSUIKNIS1' # your Foursquare ID\n",
        "CLIENT_SECRET = 'EAINZEE4FJBAUS5XLOHW0JQLC1RO0LBWOUHUKVKFT21MVVFN' # your Foursquare Secret\n",
        "VERSION = '20180605' # Foursquare API version\n",
        "\n",
        "# define function to return venue name and category\n",
        "radius = 500   # within 500m of specified location\n",
        "LIMIT = 100    # up to 100 venues\n",
        "\n",
        "def getNearbyVenues(names, latitudes, longitudes, radius=500):\n",
        "    \n",
        "    venues_list=[]\n",
        "    for name, lat, lng in zip(names, latitudes, longitudes):\n",
        "        # create the API request URL\n",
        "        url = 'https://api.foursquare.com/v2/venues/explore?&client_id={}&client_secret={}&v={}&ll={},{}&radius={}&limit={}'.format(\n",
        "            CLIENT_ID, \n",
        "            CLIENT_SECRET, \n",
        "            VERSION, \n",
        "            lat, \n",
        "            lng, \n",
        "            radius, \n",
        "            LIMIT)\n",
        "            \n",
        "        # make the GET request\n",
        "        results = requests.get(url).json()[\"response\"]['groups'][0]['items']\n",
        "        # return only relevant information for each nearby venue\n",
        "        venues_list.append([(\n",
        "            name, \n",
        "            lat, \n",
        "            lng, \n",
        "            v['venue']['name'], \n",
        "            v['venue']['categories'][0]['name']) for v in results])\n",
        "\n",
        "    # construct the dataframe\n",
        "    nearby_venues = pd.DataFrame([item for venue_list in venues_list for item in venue_list])\n",
        "    nearby_venues.columns = ['Neighbourhood', \n",
        "                  'Latitude', \n",
        "                  'Longitude', \n",
        "                  'Venue', \n",
        "                  'Category']\n",
        "    \n",
        "    return(nearby_venues)\n",
        "\n",
        "# return the venue details for all Toronto neighbourhoods\n",
        "df_venues = getNearbyVenues(names = df_locations['Neighbourhood'],\n",
        "                            latitudes = df_locations['Latitude'],\n",
        "                            longitudes = df_locations['Longitude']\n",
        "                            )\n",
        "\n",
        "df_venues"
      ],
      "execution_count": 11,
      "outputs": [
        {
          "output_type": "execute_result",
          "data": {
            "text/html": [
              "<div>\n",
              "<style scoped>\n",
              "    .dataframe tbody tr th:only-of-type {\n",
              "        vertical-align: middle;\n",
              "    }\n",
              "\n",
              "    .dataframe tbody tr th {\n",
              "        vertical-align: top;\n",
              "    }\n",
              "\n",
              "    .dataframe thead th {\n",
              "        text-align: right;\n",
              "    }\n",
              "</style>\n",
              "<table border=\"1\" class=\"dataframe\">\n",
              "  <thead>\n",
              "    <tr style=\"text-align: right;\">\n",
              "      <th></th>\n",
              "      <th>Neighbourhood</th>\n",
              "      <th>Latitude</th>\n",
              "      <th>Longitude</th>\n",
              "      <th>Venue</th>\n",
              "      <th>Category</th>\n",
              "    </tr>\n",
              "  </thead>\n",
              "  <tbody>\n",
              "    <tr>\n",
              "      <th>0</th>\n",
              "      <td>Rouge, Malvern</td>\n",
              "      <td>43.806686</td>\n",
              "      <td>-79.194353</td>\n",
              "      <td>Wendy’s</td>\n",
              "      <td>Fast Food Restaurant</td>\n",
              "    </tr>\n",
              "    <tr>\n",
              "      <th>1</th>\n",
              "      <td>Highland Creek, Rouge Hill, Port Union</td>\n",
              "      <td>43.784535</td>\n",
              "      <td>-79.160497</td>\n",
              "      <td>Royal Canadian Legion</td>\n",
              "      <td>Bar</td>\n",
              "    </tr>\n",
              "    <tr>\n",
              "      <th>2</th>\n",
              "      <td>Guildwood, Morningside, West Hill</td>\n",
              "      <td>43.763573</td>\n",
              "      <td>-79.188711</td>\n",
              "      <td>G &amp; G Electronics</td>\n",
              "      <td>Electronics Store</td>\n",
              "    </tr>\n",
              "    <tr>\n",
              "      <th>3</th>\n",
              "      <td>Guildwood, Morningside, West Hill</td>\n",
              "      <td>43.763573</td>\n",
              "      <td>-79.188711</td>\n",
              "      <td>Marina Spa</td>\n",
              "      <td>Spa</td>\n",
              "    </tr>\n",
              "    <tr>\n",
              "      <th>4</th>\n",
              "      <td>Guildwood, Morningside, West Hill</td>\n",
              "      <td>43.763573</td>\n",
              "      <td>-79.188711</td>\n",
              "      <td>Big Bite Burrito</td>\n",
              "      <td>Mexican Restaurant</td>\n",
              "    </tr>\n",
              "    <tr>\n",
              "      <th>...</th>\n",
              "      <td>...</td>\n",
              "      <td>...</td>\n",
              "      <td>...</td>\n",
              "      <td>...</td>\n",
              "      <td>...</td>\n",
              "    </tr>\n",
              "    <tr>\n",
              "      <th>2244</th>\n",
              "      <td>Albion Gardens, Beaumond Heights, Humbergate, ...</td>\n",
              "      <td>43.739416</td>\n",
              "      <td>-79.588437</td>\n",
              "      <td>McDonald's</td>\n",
              "      <td>Fast Food Restaurant</td>\n",
              "    </tr>\n",
              "    <tr>\n",
              "      <th>2245</th>\n",
              "      <td>Albion Gardens, Beaumond Heights, Humbergate, ...</td>\n",
              "      <td>43.739416</td>\n",
              "      <td>-79.588437</td>\n",
              "      <td>Dollarama</td>\n",
              "      <td>Discount Store</td>\n",
              "    </tr>\n",
              "    <tr>\n",
              "      <th>2246</th>\n",
              "      <td>Albion Gardens, Beaumond Heights, Humbergate, ...</td>\n",
              "      <td>43.739416</td>\n",
              "      <td>-79.588437</td>\n",
              "      <td>NORI SUSHI</td>\n",
              "      <td>Japanese Restaurant</td>\n",
              "    </tr>\n",
              "    <tr>\n",
              "      <th>2247</th>\n",
              "      <td>Northwest</td>\n",
              "      <td>43.706748</td>\n",
              "      <td>-79.594054</td>\n",
              "      <td>Economy Rent A Car</td>\n",
              "      <td>Rental Car Location</td>\n",
              "    </tr>\n",
              "    <tr>\n",
              "      <th>2248</th>\n",
              "      <td>Northwest</td>\n",
              "      <td>43.706748</td>\n",
              "      <td>-79.594054</td>\n",
              "      <td>Saand Rexdale</td>\n",
              "      <td>Drugstore</td>\n",
              "    </tr>\n",
              "  </tbody>\n",
              "</table>\n",
              "<p>2249 rows × 5 columns</p>\n",
              "</div>"
            ],
            "text/plain": [
              "                                          Neighbourhood  ...              Category\n",
              "0                                        Rouge, Malvern  ...  Fast Food Restaurant\n",
              "1                Highland Creek, Rouge Hill, Port Union  ...                   Bar\n",
              "2                     Guildwood, Morningside, West Hill  ...     Electronics Store\n",
              "3                     Guildwood, Morningside, West Hill  ...                   Spa\n",
              "4                     Guildwood, Morningside, West Hill  ...    Mexican Restaurant\n",
              "...                                                 ...  ...                   ...\n",
              "2244  Albion Gardens, Beaumond Heights, Humbergate, ...  ...  Fast Food Restaurant\n",
              "2245  Albion Gardens, Beaumond Heights, Humbergate, ...  ...        Discount Store\n",
              "2246  Albion Gardens, Beaumond Heights, Humbergate, ...  ...   Japanese Restaurant\n",
              "2247                                          Northwest  ...   Rental Car Location\n",
              "2248                                          Northwest  ...             Drugstore\n",
              "\n",
              "[2249 rows x 5 columns]"
            ]
          },
          "metadata": {
            "tags": []
          },
          "execution_count": 11
        }
      ]
    },
    {
      "cell_type": "markdown",
      "metadata": {
        "id": "bndKl_3xPwGZ",
        "colab_type": "text"
      },
      "source": [
        "**Step 2: Identify the most common venue categories over all neighbourhoods**\n",
        "\n",
        "Over 2000 venues have been returned. Count the number in each category and report the top 20."
      ]
    },
    {
      "cell_type": "code",
      "metadata": {
        "id": "KzHt38VONPH9",
        "colab_type": "code",
        "colab": {
          "base_uri": "https://localhost:8080/",
          "height": 700
        },
        "outputId": "08624925-a207-4070-a6a7-0c4ccf34f824"
      },
      "source": [
        "num_categories = df_venues.groupby('Category').count()\n",
        "num_categories.drop(['Neighbourhood', 'Latitude', 'Longitude'], axis = 'columns', inplace=True)\n",
        "num_categories.sort_values('Venue', ascending=False, inplace=True)\n",
        "num_categories.head(20)"
      ],
      "execution_count": 12,
      "outputs": [
        {
          "output_type": "execute_result",
          "data": {
            "text/html": [
              "<div>\n",
              "<style scoped>\n",
              "    .dataframe tbody tr th:only-of-type {\n",
              "        vertical-align: middle;\n",
              "    }\n",
              "\n",
              "    .dataframe tbody tr th {\n",
              "        vertical-align: top;\n",
              "    }\n",
              "\n",
              "    .dataframe thead th {\n",
              "        text-align: right;\n",
              "    }\n",
              "</style>\n",
              "<table border=\"1\" class=\"dataframe\">\n",
              "  <thead>\n",
              "    <tr style=\"text-align: right;\">\n",
              "      <th></th>\n",
              "      <th>Venue</th>\n",
              "    </tr>\n",
              "    <tr>\n",
              "      <th>Category</th>\n",
              "      <th></th>\n",
              "    </tr>\n",
              "  </thead>\n",
              "  <tbody>\n",
              "    <tr>\n",
              "      <th>Coffee Shop</th>\n",
              "      <td>191</td>\n",
              "    </tr>\n",
              "    <tr>\n",
              "      <th>Café</th>\n",
              "      <td>97</td>\n",
              "    </tr>\n",
              "    <tr>\n",
              "      <th>Restaurant</th>\n",
              "      <td>77</td>\n",
              "    </tr>\n",
              "    <tr>\n",
              "      <th>Park</th>\n",
              "      <td>54</td>\n",
              "    </tr>\n",
              "    <tr>\n",
              "      <th>Pizza Place</th>\n",
              "      <td>53</td>\n",
              "    </tr>\n",
              "    <tr>\n",
              "      <th>Italian Restaurant</th>\n",
              "      <td>48</td>\n",
              "    </tr>\n",
              "    <tr>\n",
              "      <th>Bakery</th>\n",
              "      <td>47</td>\n",
              "    </tr>\n",
              "    <tr>\n",
              "      <th>Japanese Restaurant</th>\n",
              "      <td>43</td>\n",
              "    </tr>\n",
              "    <tr>\n",
              "      <th>Bar</th>\n",
              "      <td>42</td>\n",
              "    </tr>\n",
              "    <tr>\n",
              "      <th>Sandwich Place</th>\n",
              "      <td>40</td>\n",
              "    </tr>\n",
              "    <tr>\n",
              "      <th>Hotel</th>\n",
              "      <td>38</td>\n",
              "    </tr>\n",
              "    <tr>\n",
              "      <th>Clothing Store</th>\n",
              "      <td>33</td>\n",
              "    </tr>\n",
              "    <tr>\n",
              "      <th>Gym</th>\n",
              "      <td>31</td>\n",
              "    </tr>\n",
              "    <tr>\n",
              "      <th>American Restaurant</th>\n",
              "      <td>28</td>\n",
              "    </tr>\n",
              "    <tr>\n",
              "      <th>Seafood Restaurant</th>\n",
              "      <td>26</td>\n",
              "    </tr>\n",
              "    <tr>\n",
              "      <th>Pub</th>\n",
              "      <td>26</td>\n",
              "    </tr>\n",
              "    <tr>\n",
              "      <th>Thai Restaurant</th>\n",
              "      <td>26</td>\n",
              "    </tr>\n",
              "    <tr>\n",
              "      <th>Fast Food Restaurant</th>\n",
              "      <td>25</td>\n",
              "    </tr>\n",
              "    <tr>\n",
              "      <th>Sushi Restaurant</th>\n",
              "      <td>25</td>\n",
              "    </tr>\n",
              "    <tr>\n",
              "      <th>Bank</th>\n",
              "      <td>25</td>\n",
              "    </tr>\n",
              "  </tbody>\n",
              "</table>\n",
              "</div>"
            ],
            "text/plain": [
              "                      Venue\n",
              "Category                   \n",
              "Coffee Shop             191\n",
              "Café                     97\n",
              "Restaurant               77\n",
              "Park                     54\n",
              "Pizza Place              53\n",
              "Italian Restaurant       48\n",
              "Bakery                   47\n",
              "Japanese Restaurant      43\n",
              "Bar                      42\n",
              "Sandwich Place           40\n",
              "Hotel                    38\n",
              "Clothing Store           33\n",
              "Gym                      31\n",
              "American Restaurant      28\n",
              "Seafood Restaurant       26\n",
              "Pub                      26\n",
              "Thai Restaurant          26\n",
              "Fast Food Restaurant     25\n",
              "Sushi Restaurant         25\n",
              "Bank                     25"
            ]
          },
          "metadata": {
            "tags": []
          },
          "execution_count": 12
        }
      ]
    },
    {
      "cell_type": "markdown",
      "metadata": {
        "id": "ANlQuf4JXrTD",
        "colab_type": "text"
      },
      "source": [
        "Retain only the venues that are in one of these most common 20 categories."
      ]
    },
    {
      "cell_type": "code",
      "metadata": {
        "id": "Xvzsf4FSPmWv",
        "colab_type": "code",
        "colab": {
          "base_uri": "https://localhost:8080/",
          "height": 34
        },
        "outputId": "0dccd516-6495-4cea-8b4a-a89890ad0311"
      },
      "source": [
        "# store the relevant categories\n",
        "top_categories = num_categories[0:20]\n",
        "top_categories.reset_index(inplace=True)\n",
        "print(\"Total venues in top 20 categories:\", top_categories['Venue'].sum())"
      ],
      "execution_count": 13,
      "outputs": [
        {
          "output_type": "stream",
          "text": [
            "Total venues in top 20 categories: 975\n"
          ],
          "name": "stdout"
        }
      ]
    },
    {
      "cell_type": "markdown",
      "metadata": {
        "id": "yi-yKTbPY9ah",
        "colab_type": "text"
      },
      "source": [
        "**Step 3: Construct neighbourhood profiles**\n",
        "\n",
        "Restricting to the most frequent 20 categories reduces the total number of venues found from over 2000 to around 1000 (depending on shen Foursquare called. Construct a profile for each neighbouhood that contains the proportion of returned venues that are of each of these top 20 categories.\n",
        "\n",
        "First, calculate the total number of venues by neighbourhood (including categories that are not in the most common 20). Then, count venues by category in each neighbourhood and calculate the proportion."
      ]
    },
    {
      "cell_type": "code",
      "metadata": {
        "id": "FC6uw_LxUn54",
        "colab_type": "code",
        "colab": {
          "base_uri": "https://localhost:8080/",
          "height": 173
        },
        "outputId": "f8407cc8-136d-4af4-adc7-aff61fbd2c4c"
      },
      "source": [
        "# count the total number of venues returned\n",
        "nbr_totals = df_venues.groupby('Neighbourhood').count()\n",
        "nbr_totals.drop(['Venue', 'Latitude', 'Longitude'], axis = 'columns', inplace=True)\n",
        "nbr_totals.rename(columns={'Category':'Total'}, inplace=True)\n",
        "nbr_totals.head(3)"
      ],
      "execution_count": 14,
      "outputs": [
        {
          "output_type": "execute_result",
          "data": {
            "text/html": [
              "<div>\n",
              "<style scoped>\n",
              "    .dataframe tbody tr th:only-of-type {\n",
              "        vertical-align: middle;\n",
              "    }\n",
              "\n",
              "    .dataframe tbody tr th {\n",
              "        vertical-align: top;\n",
              "    }\n",
              "\n",
              "    .dataframe thead th {\n",
              "        text-align: right;\n",
              "    }\n",
              "</style>\n",
              "<table border=\"1\" class=\"dataframe\">\n",
              "  <thead>\n",
              "    <tr style=\"text-align: right;\">\n",
              "      <th></th>\n",
              "      <th>Total</th>\n",
              "    </tr>\n",
              "    <tr>\n",
              "      <th>Neighbourhood</th>\n",
              "      <th></th>\n",
              "    </tr>\n",
              "  </thead>\n",
              "  <tbody>\n",
              "    <tr>\n",
              "      <th>Adelaide, King, Richmond</th>\n",
              "      <td>100</td>\n",
              "    </tr>\n",
              "    <tr>\n",
              "      <th>Agincourt</th>\n",
              "      <td>5</td>\n",
              "    </tr>\n",
              "    <tr>\n",
              "      <th>Agincourt North, L'Amoreaux East, Milliken, Steeles East</th>\n",
              "      <td>2</td>\n",
              "    </tr>\n",
              "  </tbody>\n",
              "</table>\n",
              "</div>"
            ],
            "text/plain": [
              "                                                    Total\n",
              "Neighbourhood                                            \n",
              "Adelaide, King, Richmond                              100\n",
              "Agincourt                                               5\n",
              "Agincourt North, L'Amoreaux East, Milliken, Ste...      2"
            ]
          },
          "metadata": {
            "tags": []
          },
          "execution_count": 14
        }
      ]
    },
    {
      "cell_type": "code",
      "metadata": {
        "id": "1H_CcUchZDWE",
        "colab_type": "code",
        "colab": {
          "base_uri": "https://localhost:8080/",
          "height": 436
        },
        "outputId": "8ce89e57-0213-4da8-fbf4-36294958883e"
      },
      "source": [
        "# count venues by category in each neighbourhood\n",
        "df_cat_counts = df_venues.groupby(by = ['Neighbourhood', 'Category']).count()\n",
        "df_cat_counts.drop(['Latitude', 'Longitude'], axis='columns', inplace=True)\n",
        "df_cat_counts.reset_index(inplace=True)\n",
        "\n",
        "# drop the less common categories\n",
        "df_cat_counts_clean = df_cat_counts[df_cat_counts['Category'].isin(top_categories['Category'])]\n",
        "print(\"Confirm filtered correctly:\", df_cat_counts_clean['Venue'].sum())\n",
        "\n",
        "# attach the total venue count\n",
        "df_profile = pd.merge(df_cat_counts_clean, nbr_totals, left_on='Neighbourhood', right_index=True)\n",
        "\n",
        "# calculate proportions and check\n",
        "df_profile['Prop'] = df_profile['Venue'] / df_profile['Total']\n",
        "df_profile"
      ],
      "execution_count": 15,
      "outputs": [
        {
          "output_type": "stream",
          "text": [
            "Confirm filtered correctly: 975\n"
          ],
          "name": "stdout"
        },
        {
          "output_type": "execute_result",
          "data": {
            "text/html": [
              "<div>\n",
              "<style scoped>\n",
              "    .dataframe tbody tr th:only-of-type {\n",
              "        vertical-align: middle;\n",
              "    }\n",
              "\n",
              "    .dataframe tbody tr th {\n",
              "        vertical-align: top;\n",
              "    }\n",
              "\n",
              "    .dataframe thead th {\n",
              "        text-align: right;\n",
              "    }\n",
              "</style>\n",
              "<table border=\"1\" class=\"dataframe\">\n",
              "  <thead>\n",
              "    <tr style=\"text-align: right;\">\n",
              "      <th></th>\n",
              "      <th>Neighbourhood</th>\n",
              "      <th>Category</th>\n",
              "      <th>Venue</th>\n",
              "      <th>Total</th>\n",
              "      <th>Prop</th>\n",
              "    </tr>\n",
              "  </thead>\n",
              "  <tbody>\n",
              "    <tr>\n",
              "      <th>0</th>\n",
              "      <td>Adelaide, King, Richmond</td>\n",
              "      <td>American Restaurant</td>\n",
              "      <td>2</td>\n",
              "      <td>100</td>\n",
              "      <td>0.020000</td>\n",
              "    </tr>\n",
              "    <tr>\n",
              "      <th>4</th>\n",
              "      <td>Adelaide, King, Richmond</td>\n",
              "      <td>Bakery</td>\n",
              "      <td>2</td>\n",
              "      <td>100</td>\n",
              "      <td>0.020000</td>\n",
              "    </tr>\n",
              "    <tr>\n",
              "      <th>5</th>\n",
              "      <td>Adelaide, King, Richmond</td>\n",
              "      <td>Bar</td>\n",
              "      <td>3</td>\n",
              "      <td>100</td>\n",
              "      <td>0.030000</td>\n",
              "    </tr>\n",
              "    <tr>\n",
              "      <th>12</th>\n",
              "      <td>Adelaide, King, Richmond</td>\n",
              "      <td>Café</td>\n",
              "      <td>4</td>\n",
              "      <td>100</td>\n",
              "      <td>0.040000</td>\n",
              "    </tr>\n",
              "    <tr>\n",
              "      <th>13</th>\n",
              "      <td>Adelaide, King, Richmond</td>\n",
              "      <td>Clothing Store</td>\n",
              "      <td>2</td>\n",
              "      <td>100</td>\n",
              "      <td>0.020000</td>\n",
              "    </tr>\n",
              "    <tr>\n",
              "      <th>...</th>\n",
              "      <td>...</td>\n",
              "      <td>...</td>\n",
              "      <td>...</td>\n",
              "      <td>...</td>\n",
              "      <td>...</td>\n",
              "    </tr>\n",
              "    <tr>\n",
              "      <th>1564</th>\n",
              "      <td>Woodbine Gardens, Parkview Hill</td>\n",
              "      <td>Fast Food Restaurant</td>\n",
              "      <td>1</td>\n",
              "      <td>13</td>\n",
              "      <td>0.076923</td>\n",
              "    </tr>\n",
              "    <tr>\n",
              "      <th>1570</th>\n",
              "      <td>Woodbine Gardens, Parkview Hill</td>\n",
              "      <td>Pizza Place</td>\n",
              "      <td>2</td>\n",
              "      <td>13</td>\n",
              "      <td>0.153846</td>\n",
              "    </tr>\n",
              "    <tr>\n",
              "      <th>1576</th>\n",
              "      <td>Woodbine Heights</td>\n",
              "      <td>Park</td>\n",
              "      <td>1</td>\n",
              "      <td>11</td>\n",
              "      <td>0.090909</td>\n",
              "    </tr>\n",
              "    <tr>\n",
              "      <th>1581</th>\n",
              "      <td>York Mills West</td>\n",
              "      <td>Bank</td>\n",
              "      <td>1</td>\n",
              "      <td>3</td>\n",
              "      <td>0.333333</td>\n",
              "    </tr>\n",
              "    <tr>\n",
              "      <th>1583</th>\n",
              "      <td>York Mills West</td>\n",
              "      <td>Park</td>\n",
              "      <td>1</td>\n",
              "      <td>3</td>\n",
              "      <td>0.333333</td>\n",
              "    </tr>\n",
              "  </tbody>\n",
              "</table>\n",
              "<p>499 rows × 5 columns</p>\n",
              "</div>"
            ],
            "text/plain": [
              "                        Neighbourhood              Category  ...  Total      Prop\n",
              "0            Adelaide, King, Richmond   American Restaurant  ...    100  0.020000\n",
              "4            Adelaide, King, Richmond                Bakery  ...    100  0.020000\n",
              "5            Adelaide, King, Richmond                   Bar  ...    100  0.030000\n",
              "12           Adelaide, King, Richmond                  Café  ...    100  0.040000\n",
              "13           Adelaide, King, Richmond        Clothing Store  ...    100  0.020000\n",
              "...                               ...                   ...  ...    ...       ...\n",
              "1564  Woodbine Gardens, Parkview Hill  Fast Food Restaurant  ...     13  0.076923\n",
              "1570  Woodbine Gardens, Parkview Hill           Pizza Place  ...     13  0.153846\n",
              "1576                 Woodbine Heights                  Park  ...     11  0.090909\n",
              "1581                  York Mills West                  Bank  ...      3  0.333333\n",
              "1583                  York Mills West                  Park  ...      3  0.333333\n",
              "\n",
              "[499 rows x 5 columns]"
            ]
          },
          "metadata": {
            "tags": []
          },
          "execution_count": 15
        }
      ]
    },
    {
      "cell_type": "markdown",
      "metadata": {
        "id": "WgZoW8yIdE1w",
        "colab_type": "text"
      },
      "source": [
        "Since we are interested in the proportion of venues in common categories, remove the neighbourhoods with very few venues as their proportions are not meaningful."
      ]
    },
    {
      "cell_type": "code",
      "metadata": {
        "id": "muyqNk4sxe5d",
        "colab_type": "code",
        "colab": {
          "base_uri": "https://localhost:8080/",
          "height": 419
        },
        "outputId": "dfb77564-eb20-40ab-ae65-da13e0fb61e5"
      },
      "source": [
        "df_profile = df_profile[df_profile['Total'] >= 20]\n",
        "df_profile"
      ],
      "execution_count": 16,
      "outputs": [
        {
          "output_type": "execute_result",
          "data": {
            "text/html": [
              "<div>\n",
              "<style scoped>\n",
              "    .dataframe tbody tr th:only-of-type {\n",
              "        vertical-align: middle;\n",
              "    }\n",
              "\n",
              "    .dataframe tbody tr th {\n",
              "        vertical-align: top;\n",
              "    }\n",
              "\n",
              "    .dataframe thead th {\n",
              "        text-align: right;\n",
              "    }\n",
              "</style>\n",
              "<table border=\"1\" class=\"dataframe\">\n",
              "  <thead>\n",
              "    <tr style=\"text-align: right;\">\n",
              "      <th></th>\n",
              "      <th>Neighbourhood</th>\n",
              "      <th>Category</th>\n",
              "      <th>Venue</th>\n",
              "      <th>Total</th>\n",
              "      <th>Prop</th>\n",
              "    </tr>\n",
              "  </thead>\n",
              "  <tbody>\n",
              "    <tr>\n",
              "      <th>0</th>\n",
              "      <td>Adelaide, King, Richmond</td>\n",
              "      <td>American Restaurant</td>\n",
              "      <td>2</td>\n",
              "      <td>100</td>\n",
              "      <td>0.020000</td>\n",
              "    </tr>\n",
              "    <tr>\n",
              "      <th>4</th>\n",
              "      <td>Adelaide, King, Richmond</td>\n",
              "      <td>Bakery</td>\n",
              "      <td>2</td>\n",
              "      <td>100</td>\n",
              "      <td>0.020000</td>\n",
              "    </tr>\n",
              "    <tr>\n",
              "      <th>5</th>\n",
              "      <td>Adelaide, King, Richmond</td>\n",
              "      <td>Bar</td>\n",
              "      <td>3</td>\n",
              "      <td>100</td>\n",
              "      <td>0.030000</td>\n",
              "    </tr>\n",
              "    <tr>\n",
              "      <th>12</th>\n",
              "      <td>Adelaide, King, Richmond</td>\n",
              "      <td>Café</td>\n",
              "      <td>4</td>\n",
              "      <td>100</td>\n",
              "      <td>0.040000</td>\n",
              "    </tr>\n",
              "    <tr>\n",
              "      <th>13</th>\n",
              "      <td>Adelaide, King, Richmond</td>\n",
              "      <td>Clothing Store</td>\n",
              "      <td>2</td>\n",
              "      <td>100</td>\n",
              "      <td>0.020000</td>\n",
              "    </tr>\n",
              "    <tr>\n",
              "      <th>...</th>\n",
              "      <td>...</td>\n",
              "      <td>...</td>\n",
              "      <td>...</td>\n",
              "      <td>...</td>\n",
              "      <td>...</td>\n",
              "    </tr>\n",
              "    <tr>\n",
              "      <th>1536</th>\n",
              "      <td>Willowdale South</td>\n",
              "      <td>Japanese Restaurant</td>\n",
              "      <td>1</td>\n",
              "      <td>34</td>\n",
              "      <td>0.029412</td>\n",
              "    </tr>\n",
              "    <tr>\n",
              "      <th>1542</th>\n",
              "      <td>Willowdale South</td>\n",
              "      <td>Pizza Place</td>\n",
              "      <td>2</td>\n",
              "      <td>34</td>\n",
              "      <td>0.058824</td>\n",
              "    </tr>\n",
              "    <tr>\n",
              "      <th>1545</th>\n",
              "      <td>Willowdale South</td>\n",
              "      <td>Restaurant</td>\n",
              "      <td>2</td>\n",
              "      <td>34</td>\n",
              "      <td>0.058824</td>\n",
              "    </tr>\n",
              "    <tr>\n",
              "      <th>1546</th>\n",
              "      <td>Willowdale South</td>\n",
              "      <td>Sandwich Place</td>\n",
              "      <td>2</td>\n",
              "      <td>34</td>\n",
              "      <td>0.058824</td>\n",
              "    </tr>\n",
              "    <tr>\n",
              "      <th>1549</th>\n",
              "      <td>Willowdale South</td>\n",
              "      <td>Sushi Restaurant</td>\n",
              "      <td>2</td>\n",
              "      <td>34</td>\n",
              "      <td>0.058824</td>\n",
              "    </tr>\n",
              "  </tbody>\n",
              "</table>\n",
              "<p>343 rows × 5 columns</p>\n",
              "</div>"
            ],
            "text/plain": [
              "                 Neighbourhood             Category  Venue  Total      Prop\n",
              "0     Adelaide, King, Richmond  American Restaurant      2    100  0.020000\n",
              "4     Adelaide, King, Richmond               Bakery      2    100  0.020000\n",
              "5     Adelaide, King, Richmond                  Bar      3    100  0.030000\n",
              "12    Adelaide, King, Richmond                 Café      4    100  0.040000\n",
              "13    Adelaide, King, Richmond       Clothing Store      2    100  0.020000\n",
              "...                        ...                  ...    ...    ...       ...\n",
              "1536          Willowdale South  Japanese Restaurant      1     34  0.029412\n",
              "1542          Willowdale South          Pizza Place      2     34  0.058824\n",
              "1545          Willowdale South           Restaurant      2     34  0.058824\n",
              "1546          Willowdale South       Sandwich Place      2     34  0.058824\n",
              "1549          Willowdale South     Sushi Restaurant      2     34  0.058824\n",
              "\n",
              "[343 rows x 5 columns]"
            ]
          },
          "metadata": {
            "tags": []
          },
          "execution_count": 16
        }
      ]
    },
    {
      "cell_type": "markdown",
      "metadata": {
        "id": "uYxIi-XEevM8",
        "colab_type": "text"
      },
      "source": [
        "Finally, reshape the dataframe so that the category proportions are columns to match the standard format for features."
      ]
    },
    {
      "cell_type": "code",
      "metadata": {
        "id": "IK9sEv5eOg4U",
        "colab_type": "code",
        "colab": {
          "base_uri": "https://localhost:8080/",
          "height": 442
        },
        "outputId": "21751105-cfe0-495f-eccd-8c02596c3d53"
      },
      "source": [
        "# transpose\n",
        "nbr_proportions = df_profile.pivot(index='Neighbourhood', columns='Category', values='Prop')\n",
        "# replace the missing values with 0 \n",
        "nbr_proportions.fillna(0, inplace=True)\n",
        "\n",
        "# check reasonable\n",
        "nbr_proportions.head()"
      ],
      "execution_count": 17,
      "outputs": [
        {
          "output_type": "execute_result",
          "data": {
            "text/html": [
              "<div>\n",
              "<style scoped>\n",
              "    .dataframe tbody tr th:only-of-type {\n",
              "        vertical-align: middle;\n",
              "    }\n",
              "\n",
              "    .dataframe tbody tr th {\n",
              "        vertical-align: top;\n",
              "    }\n",
              "\n",
              "    .dataframe thead th {\n",
              "        text-align: right;\n",
              "    }\n",
              "</style>\n",
              "<table border=\"1\" class=\"dataframe\">\n",
              "  <thead>\n",
              "    <tr style=\"text-align: right;\">\n",
              "      <th>Category</th>\n",
              "      <th>American Restaurant</th>\n",
              "      <th>Bakery</th>\n",
              "      <th>Bank</th>\n",
              "      <th>Bar</th>\n",
              "      <th>Café</th>\n",
              "      <th>Clothing Store</th>\n",
              "      <th>Coffee Shop</th>\n",
              "      <th>Fast Food Restaurant</th>\n",
              "      <th>Gym</th>\n",
              "      <th>Hotel</th>\n",
              "      <th>Italian Restaurant</th>\n",
              "      <th>Japanese Restaurant</th>\n",
              "      <th>Park</th>\n",
              "      <th>Pizza Place</th>\n",
              "      <th>Pub</th>\n",
              "      <th>Restaurant</th>\n",
              "      <th>Sandwich Place</th>\n",
              "      <th>Seafood Restaurant</th>\n",
              "      <th>Sushi Restaurant</th>\n",
              "      <th>Thai Restaurant</th>\n",
              "    </tr>\n",
              "    <tr>\n",
              "      <th>Neighbourhood</th>\n",
              "      <th></th>\n",
              "      <th></th>\n",
              "      <th></th>\n",
              "      <th></th>\n",
              "      <th></th>\n",
              "      <th></th>\n",
              "      <th></th>\n",
              "      <th></th>\n",
              "      <th></th>\n",
              "      <th></th>\n",
              "      <th></th>\n",
              "      <th></th>\n",
              "      <th></th>\n",
              "      <th></th>\n",
              "      <th></th>\n",
              "      <th></th>\n",
              "      <th></th>\n",
              "      <th></th>\n",
              "      <th></th>\n",
              "      <th></th>\n",
              "    </tr>\n",
              "  </thead>\n",
              "  <tbody>\n",
              "    <tr>\n",
              "      <th>Adelaide, King, Richmond</th>\n",
              "      <td>0.02</td>\n",
              "      <td>0.020000</td>\n",
              "      <td>0.000000</td>\n",
              "      <td>0.030000</td>\n",
              "      <td>0.040000</td>\n",
              "      <td>0.02</td>\n",
              "      <td>0.070000</td>\n",
              "      <td>0.01</td>\n",
              "      <td>0.020000</td>\n",
              "      <td>0.020000</td>\n",
              "      <td>0.000000</td>\n",
              "      <td>0.010000</td>\n",
              "      <td>0.000000</td>\n",
              "      <td>0.020000</td>\n",
              "      <td>0.000000</td>\n",
              "      <td>0.050000</td>\n",
              "      <td>0.010000</td>\n",
              "      <td>0.020000</td>\n",
              "      <td>0.02</td>\n",
              "      <td>0.040000</td>\n",
              "    </tr>\n",
              "    <tr>\n",
              "      <th>Bedford Park, Lawrence Manor East</th>\n",
              "      <td>0.04</td>\n",
              "      <td>0.000000</td>\n",
              "      <td>0.000000</td>\n",
              "      <td>0.000000</td>\n",
              "      <td>0.040000</td>\n",
              "      <td>0.00</td>\n",
              "      <td>0.080000</td>\n",
              "      <td>0.04</td>\n",
              "      <td>0.000000</td>\n",
              "      <td>0.000000</td>\n",
              "      <td>0.080000</td>\n",
              "      <td>0.000000</td>\n",
              "      <td>0.000000</td>\n",
              "      <td>0.080000</td>\n",
              "      <td>0.040000</td>\n",
              "      <td>0.080000</td>\n",
              "      <td>0.080000</td>\n",
              "      <td>0.000000</td>\n",
              "      <td>0.04</td>\n",
              "      <td>0.040000</td>\n",
              "    </tr>\n",
              "    <tr>\n",
              "      <th>Berczy Park</th>\n",
              "      <td>0.00</td>\n",
              "      <td>0.036364</td>\n",
              "      <td>0.000000</td>\n",
              "      <td>0.000000</td>\n",
              "      <td>0.036364</td>\n",
              "      <td>0.00</td>\n",
              "      <td>0.090909</td>\n",
              "      <td>0.00</td>\n",
              "      <td>0.000000</td>\n",
              "      <td>0.018182</td>\n",
              "      <td>0.000000</td>\n",
              "      <td>0.018182</td>\n",
              "      <td>0.018182</td>\n",
              "      <td>0.000000</td>\n",
              "      <td>0.018182</td>\n",
              "      <td>0.036364</td>\n",
              "      <td>0.000000</td>\n",
              "      <td>0.036364</td>\n",
              "      <td>0.00</td>\n",
              "      <td>0.018182</td>\n",
              "    </tr>\n",
              "    <tr>\n",
              "      <th>Brockton, Exhibition Place, Parkdale Village</th>\n",
              "      <td>0.00</td>\n",
              "      <td>0.041667</td>\n",
              "      <td>0.000000</td>\n",
              "      <td>0.041667</td>\n",
              "      <td>0.083333</td>\n",
              "      <td>0.00</td>\n",
              "      <td>0.083333</td>\n",
              "      <td>0.00</td>\n",
              "      <td>0.041667</td>\n",
              "      <td>0.000000</td>\n",
              "      <td>0.041667</td>\n",
              "      <td>0.041667</td>\n",
              "      <td>0.000000</td>\n",
              "      <td>0.000000</td>\n",
              "      <td>0.000000</td>\n",
              "      <td>0.041667</td>\n",
              "      <td>0.000000</td>\n",
              "      <td>0.000000</td>\n",
              "      <td>0.00</td>\n",
              "      <td>0.000000</td>\n",
              "    </tr>\n",
              "    <tr>\n",
              "      <th>Cabbagetown, St. James Town</th>\n",
              "      <td>0.00</td>\n",
              "      <td>0.045455</td>\n",
              "      <td>0.022727</td>\n",
              "      <td>0.000000</td>\n",
              "      <td>0.068182</td>\n",
              "      <td>0.00</td>\n",
              "      <td>0.068182</td>\n",
              "      <td>0.00</td>\n",
              "      <td>0.000000</td>\n",
              "      <td>0.000000</td>\n",
              "      <td>0.045455</td>\n",
              "      <td>0.022727</td>\n",
              "      <td>0.045455</td>\n",
              "      <td>0.045455</td>\n",
              "      <td>0.045455</td>\n",
              "      <td>0.045455</td>\n",
              "      <td>0.022727</td>\n",
              "      <td>0.000000</td>\n",
              "      <td>0.00</td>\n",
              "      <td>0.022727</td>\n",
              "    </tr>\n",
              "  </tbody>\n",
              "</table>\n",
              "</div>"
            ],
            "text/plain": [
              "Category                                      American Restaurant  ...  Thai Restaurant\n",
              "Neighbourhood                                                      ...                 \n",
              "Adelaide, King, Richmond                                     0.02  ...         0.040000\n",
              "Bedford Park, Lawrence Manor East                            0.04  ...         0.040000\n",
              "Berczy Park                                                  0.00  ...         0.018182\n",
              "Brockton, Exhibition Place, Parkdale Village                 0.00  ...         0.000000\n",
              "Cabbagetown, St. James Town                                  0.00  ...         0.022727\n",
              "\n",
              "[5 rows x 20 columns]"
            ]
          },
          "metadata": {
            "tags": []
          },
          "execution_count": 17
        }
      ]
    },
    {
      "cell_type": "markdown",
      "metadata": {
        "id": "-4Md42cGRcQu",
        "colab_type": "text"
      },
      "source": [
        "**Step 4: Use profiles to cluster neighbourhoods**\n",
        "\n",
        "Neighbourhood similarity is to be assessed by the difference between the profiles. That is, neighbourhoods are considered similar if, for example, the proportion of venues in the neighbourhood that are coffee shops or parks are similar. The neighbourhoods are mapped and their cluster used to colour the marker.\n",
        "\n",
        "Create the clusters with k-means algorithm. Features are not normalised - which retains the relative importance of the different venue categories. Distance is only available as Euclidean distance, but that is reasonable for a distance between vectors of proportions."
      ]
    },
    {
      "cell_type": "code",
      "metadata": {
        "id": "VpsMAp2Sjds3",
        "colab_type": "code",
        "colab": {
          "base_uri": "https://localhost:8080/",
          "height": 278
        },
        "outputId": "833c4fd0-e8f0-45a6-b140-0f7a223abfca"
      },
      "source": [
        "from sklearn.cluster import KMeans\n",
        "\n",
        "# set number of clusters and run k-means clustering\n",
        "kclusters = 5\n",
        "kmeans = KMeans(n_clusters=kclusters, random_state=0).fit(nbr_proportions)\n",
        "\n",
        "# attach cluster label to neighbourhood dataset\n",
        "nbr_proportions['Cluster'] = kmeans.labels_\n",
        "nbr_proportions.head(3)"
      ],
      "execution_count": 18,
      "outputs": [
        {
          "output_type": "execute_result",
          "data": {
            "text/html": [
              "<div>\n",
              "<style scoped>\n",
              "    .dataframe tbody tr th:only-of-type {\n",
              "        vertical-align: middle;\n",
              "    }\n",
              "\n",
              "    .dataframe tbody tr th {\n",
              "        vertical-align: top;\n",
              "    }\n",
              "\n",
              "    .dataframe thead th {\n",
              "        text-align: right;\n",
              "    }\n",
              "</style>\n",
              "<table border=\"1\" class=\"dataframe\">\n",
              "  <thead>\n",
              "    <tr style=\"text-align: right;\">\n",
              "      <th>Category</th>\n",
              "      <th>American Restaurant</th>\n",
              "      <th>Bakery</th>\n",
              "      <th>Bank</th>\n",
              "      <th>Bar</th>\n",
              "      <th>Café</th>\n",
              "      <th>Clothing Store</th>\n",
              "      <th>Coffee Shop</th>\n",
              "      <th>Fast Food Restaurant</th>\n",
              "      <th>Gym</th>\n",
              "      <th>Hotel</th>\n",
              "      <th>Italian Restaurant</th>\n",
              "      <th>Japanese Restaurant</th>\n",
              "      <th>Park</th>\n",
              "      <th>Pizza Place</th>\n",
              "      <th>Pub</th>\n",
              "      <th>Restaurant</th>\n",
              "      <th>Sandwich Place</th>\n",
              "      <th>Seafood Restaurant</th>\n",
              "      <th>Sushi Restaurant</th>\n",
              "      <th>Thai Restaurant</th>\n",
              "      <th>Cluster</th>\n",
              "    </tr>\n",
              "    <tr>\n",
              "      <th>Neighbourhood</th>\n",
              "      <th></th>\n",
              "      <th></th>\n",
              "      <th></th>\n",
              "      <th></th>\n",
              "      <th></th>\n",
              "      <th></th>\n",
              "      <th></th>\n",
              "      <th></th>\n",
              "      <th></th>\n",
              "      <th></th>\n",
              "      <th></th>\n",
              "      <th></th>\n",
              "      <th></th>\n",
              "      <th></th>\n",
              "      <th></th>\n",
              "      <th></th>\n",
              "      <th></th>\n",
              "      <th></th>\n",
              "      <th></th>\n",
              "      <th></th>\n",
              "      <th></th>\n",
              "    </tr>\n",
              "  </thead>\n",
              "  <tbody>\n",
              "    <tr>\n",
              "      <th>Adelaide, King, Richmond</th>\n",
              "      <td>0.02</td>\n",
              "      <td>0.020000</td>\n",
              "      <td>0.0</td>\n",
              "      <td>0.03</td>\n",
              "      <td>0.040000</td>\n",
              "      <td>0.02</td>\n",
              "      <td>0.070000</td>\n",
              "      <td>0.01</td>\n",
              "      <td>0.02</td>\n",
              "      <td>0.020000</td>\n",
              "      <td>0.00</td>\n",
              "      <td>0.010000</td>\n",
              "      <td>0.000000</td>\n",
              "      <td>0.02</td>\n",
              "      <td>0.000000</td>\n",
              "      <td>0.050000</td>\n",
              "      <td>0.01</td>\n",
              "      <td>0.020000</td>\n",
              "      <td>0.02</td>\n",
              "      <td>0.040000</td>\n",
              "      <td>3</td>\n",
              "    </tr>\n",
              "    <tr>\n",
              "      <th>Bedford Park, Lawrence Manor East</th>\n",
              "      <td>0.04</td>\n",
              "      <td>0.000000</td>\n",
              "      <td>0.0</td>\n",
              "      <td>0.00</td>\n",
              "      <td>0.040000</td>\n",
              "      <td>0.00</td>\n",
              "      <td>0.080000</td>\n",
              "      <td>0.04</td>\n",
              "      <td>0.00</td>\n",
              "      <td>0.000000</td>\n",
              "      <td>0.08</td>\n",
              "      <td>0.000000</td>\n",
              "      <td>0.000000</td>\n",
              "      <td>0.08</td>\n",
              "      <td>0.040000</td>\n",
              "      <td>0.080000</td>\n",
              "      <td>0.08</td>\n",
              "      <td>0.000000</td>\n",
              "      <td>0.04</td>\n",
              "      <td>0.040000</td>\n",
              "      <td>2</td>\n",
              "    </tr>\n",
              "    <tr>\n",
              "      <th>Berczy Park</th>\n",
              "      <td>0.00</td>\n",
              "      <td>0.036364</td>\n",
              "      <td>0.0</td>\n",
              "      <td>0.00</td>\n",
              "      <td>0.036364</td>\n",
              "      <td>0.00</td>\n",
              "      <td>0.090909</td>\n",
              "      <td>0.00</td>\n",
              "      <td>0.00</td>\n",
              "      <td>0.018182</td>\n",
              "      <td>0.00</td>\n",
              "      <td>0.018182</td>\n",
              "      <td>0.018182</td>\n",
              "      <td>0.00</td>\n",
              "      <td>0.018182</td>\n",
              "      <td>0.036364</td>\n",
              "      <td>0.00</td>\n",
              "      <td>0.036364</td>\n",
              "      <td>0.00</td>\n",
              "      <td>0.018182</td>\n",
              "      <td>3</td>\n",
              "    </tr>\n",
              "  </tbody>\n",
              "</table>\n",
              "</div>"
            ],
            "text/plain": [
              "Category                           American Restaurant  ...  Cluster\n",
              "Neighbourhood                                           ...         \n",
              "Adelaide, King, Richmond                          0.02  ...        3\n",
              "Bedford Park, Lawrence Manor East                 0.04  ...        2\n",
              "Berczy Park                                       0.00  ...        3\n",
              "\n",
              "[3 rows x 21 columns]"
            ]
          },
          "metadata": {
            "tags": []
          },
          "execution_count": 18
        }
      ]
    },
    {
      "cell_type": "markdown",
      "metadata": {
        "id": "X1FDTsPDrn68",
        "colab_type": "text"
      },
      "source": [
        "Use the neighbourhood name to attach the cluster numbers to the dataset with the latitude and longitude of each neighbourhood, and map."
      ]
    },
    {
      "cell_type": "code",
      "metadata": {
        "id": "YurS4_8QllBK",
        "colab_type": "code",
        "colab": {
          "base_uri": "https://localhost:8080/",
          "height": 204
        },
        "outputId": "56095a00-9200-4c9b-a57c-6fe57d4cd4aa"
      },
      "source": [
        "# attach cluster number to geolocation dataset\n",
        "df_map = pd.merge(df_locations, nbr_proportions, left_on = 'Neighbourhood', right_index=True)\n",
        "df_map = df_map[['PostalCode', 'Neighbourhood', 'Latitude', 'Longitude', 'Cluster']]\n",
        "df_map.head()"
      ],
      "execution_count": 19,
      "outputs": [
        {
          "output_type": "execute_result",
          "data": {
            "text/html": [
              "<div>\n",
              "<style scoped>\n",
              "    .dataframe tbody tr th:only-of-type {\n",
              "        vertical-align: middle;\n",
              "    }\n",
              "\n",
              "    .dataframe tbody tr th {\n",
              "        vertical-align: top;\n",
              "    }\n",
              "\n",
              "    .dataframe thead th {\n",
              "        text-align: right;\n",
              "    }\n",
              "</style>\n",
              "<table border=\"1\" class=\"dataframe\">\n",
              "  <thead>\n",
              "    <tr style=\"text-align: right;\">\n",
              "      <th></th>\n",
              "      <th>PostalCode</th>\n",
              "      <th>Neighbourhood</th>\n",
              "      <th>Latitude</th>\n",
              "      <th>Longitude</th>\n",
              "      <th>Cluster</th>\n",
              "    </tr>\n",
              "  </thead>\n",
              "  <tbody>\n",
              "    <tr>\n",
              "      <th>18</th>\n",
              "      <td>M2J</td>\n",
              "      <td>Fairview, Henry Farm, Oriole</td>\n",
              "      <td>43.778517</td>\n",
              "      <td>-79.346556</td>\n",
              "      <td>0</td>\n",
              "    </tr>\n",
              "    <tr>\n",
              "      <th>22</th>\n",
              "      <td>M2N</td>\n",
              "      <td>Willowdale South</td>\n",
              "      <td>43.770120</td>\n",
              "      <td>-79.408493</td>\n",
              "      <td>2</td>\n",
              "    </tr>\n",
              "    <tr>\n",
              "      <th>27</th>\n",
              "      <td>M3C</td>\n",
              "      <td>Flemingdon Park, Don Mills South</td>\n",
              "      <td>43.725900</td>\n",
              "      <td>-79.340923</td>\n",
              "      <td>0</td>\n",
              "    </tr>\n",
              "    <tr>\n",
              "      <th>38</th>\n",
              "      <td>M4G</td>\n",
              "      <td>Leaside</td>\n",
              "      <td>43.709060</td>\n",
              "      <td>-79.363452</td>\n",
              "      <td>3</td>\n",
              "    </tr>\n",
              "    <tr>\n",
              "      <th>39</th>\n",
              "      <td>M4H</td>\n",
              "      <td>Thorncliffe Park</td>\n",
              "      <td>43.705369</td>\n",
              "      <td>-79.349372</td>\n",
              "      <td>3</td>\n",
              "    </tr>\n",
              "  </tbody>\n",
              "</table>\n",
              "</div>"
            ],
            "text/plain": [
              "   PostalCode                     Neighbourhood   Latitude  Longitude  Cluster\n",
              "18        M2J      Fairview, Henry Farm, Oriole  43.778517 -79.346556        0\n",
              "22        M2N                  Willowdale South  43.770120 -79.408493        2\n",
              "27        M3C  Flemingdon Park, Don Mills South  43.725900 -79.340923        0\n",
              "38        M4G                           Leaside  43.709060 -79.363452        3\n",
              "39        M4H                  Thorncliffe Park  43.705369 -79.349372        3"
            ]
          },
          "metadata": {
            "tags": []
          },
          "execution_count": 19
        }
      ]
    },
    {
      "cell_type": "code",
      "metadata": {
        "id": "nrKSB8AxshTs",
        "colab_type": "code",
        "colab": {
          "base_uri": "https://localhost:8080/",
          "height": 1000
        },
        "outputId": "f0dcd647-9d4d-49ed-e6e6-66c2f2cf5eb9"
      },
      "source": [
        "import folium\n",
        "import matplotlib.cm as cm\n",
        "import matplotlib.colors as colors\n",
        "\n",
        "# Toronto co-ordinates for map centre\n",
        "lat_Toronto = 43.6532\n",
        "long_Toronto = -79.3832\n",
        "\n",
        "# create map\n",
        "map_clusters = folium.Map(location=[lat_Toronto, long_Toronto], zoom_start=13)\n",
        "\n",
        "# set color scheme for the clusters\n",
        "x = np.arange(kclusters)\n",
        "ys = [i + x + (i*x)**2 for i in range(kclusters)]\n",
        "colors_array = cm.rainbow(np.linspace(0, 1, len(ys)))\n",
        "rainbow = [colors.rgb2hex(i) for i in colors_array]\n",
        "\n",
        "# add markers to the map\n",
        "markers_colors = []\n",
        "for lat, lon, poi, cluster in zip(df_map['Latitude'], df_map['Longitude'], df_map['Neighbourhood'], df_map['Cluster']):\n",
        "    label = folium.Popup(str(poi) + ' Cluster ' + str(cluster), parse_html=True)\n",
        "    folium.CircleMarker(\n",
        "        [lat, lon],\n",
        "        radius=5,\n",
        "        popup=label,\n",
        "        color=rainbow[cluster-1],\n",
        "        fill=True,\n",
        "        fill_color=rainbow[cluster-1],\n",
        "        fill_opacity=0.7).add_to(map_clusters)\n",
        "       \n",
        "map_clusters"
      ],
      "execution_count": 22,
      "outputs": [
        {
          "output_type": "execute_result",
          "data": {
            "text/html": [
              "<div style=\"width:100%;\"><div style=\"position:relative;width:100%;height:0;padding-bottom:60%;\"><iframe src=\"about:blank\" style=\"position:absolute;width:100%;height:100%;left:0;top:0;border:none !important;\" data-html=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 onload=\"this.contentDocument.open();this.contentDocument.write(atob(this.getAttribute('data-html')));this.contentDocument.close();\" allowfullscreen webkitallowfullscreen mozallowfullscreen></iframe></div></div>"
            ],
            "text/plain": [
              "<folium.folium.Map at 0x7f7d832ffe48>"
            ]
          },
          "metadata": {
            "tags": []
          },
          "execution_count": 22
        }
      ]
    },
    {
      "cell_type": "markdown",
      "metadata": {
        "id": "YMlb0ErEwTtY",
        "colab_type": "text"
      },
      "source": [
        "From the map, the clustering algorithm has successfully distinguished between downtown areas from more suburban areas based on the profile of venue types available in the location."
      ]
    },
    {
      "cell_type": "code",
      "metadata": {
        "id": "wK6Q9ypWwlWf",
        "colab_type": "code",
        "colab": {}
      },
      "source": [
        ""
      ],
      "execution_count": 0,
      "outputs": []
    }
  ]
}